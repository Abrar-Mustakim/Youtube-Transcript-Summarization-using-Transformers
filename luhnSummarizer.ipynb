{
 "cells": [
  {
   "cell_type": "code",
   "execution_count": 149,
   "metadata": {},
   "outputs": [],
   "source": [
    "#pip install sumy\n",
    "import sumy \n",
    "from sumy.summarizers.text_rank import TextRankSummarizer \n",
    "from sumy.summarizers.lsa import LsaSummarizer \n",
    "from sumy.parsers.plaintext import PlaintextParser \n",
    "from sumy.nlp.tokenizers import Tokenizer\n",
    "from textwrap import wrap\n",
    "from youtube_transcript_api import YouTubeTranscriptApi\n",
    "from sumy.summarizers.lex_rank import LexRankSummarizer\n",
    "from sumy.summarizers.luhn import LuhnSummarizer"
   ]
  },
  {
   "cell_type": "code",
   "execution_count": 150,
   "metadata": {},
   "outputs": [
    {
     "name": "stdout",
     "output_type": "stream",
     "text": [
      "ne5pf3su2nc\n"
     ]
    }
   ],
   "source": [
    "youtube_video = \"https://www.youtube.com/watch?v=ne5pf3su2nc\"\n",
    "video_id = youtube_video.split(\"=\")[1]\n",
    "print(video_id)"
   ]
  },
  {
   "cell_type": "code",
   "execution_count": 151,
   "metadata": {},
   "outputs": [
    {
     "data": {
      "image/jpeg": "[encoded data removed]",
      "text/html": [
       "\n",
       "        <iframe\n",
       "            width=\"400\"\n",
       "            height=\"300\"\n",
       "            src=\"https://www.youtube.com/embed/ne5pf3su2nc\"\n",
       "            frameborder=\"0\"\n",
       "            allowfullscreen\n",
       "            \n",
       "        ></iframe>\n",
       "        "
      ],
      "text/plain": [
       "<IPython.lib.display.YouTubeVideo at 0x23e80421e50>"
      ]
     },
     "execution_count": 151,
     "metadata": {},
     "output_type": "execute_result"
    }
   ],
   "source": [
    "from IPython.display import YouTubeVideo\n",
    "YouTubeVideo(video_id)"
   ]
  },
  {
   "cell_type": "code",
   "execution_count": 152,
   "metadata": {},
   "outputs": [],
   "source": [
    "transcript = YouTubeTranscriptApi.get_transcript(video_id)"
   ]
  },
  {
   "cell_type": "code",
   "execution_count": 153,
   "metadata": {},
   "outputs": [
    {
     "name": "stdout",
     "output_type": "stream",
     "text": [
      "[{'text': \"shortages if I can it's something that\", 'start': 7.74, 'duration': 3.899}, {'text': 'everywhere you go people have an', 'start': 9.599, 'duration': 4.261}, {'text': \"interest in it and I'm just wondering\", 'start': 11.639, 'duration': 4.2}, {'text': \"you know whether it's the UK New Zealand\", 'start': 13.86, 'duration': 3.9}, {'text': 'everyone is looking for staff Australia', 'start': 15.839, 'duration': 4.081}, {'text': 'Brisbane Regional areas are no different', 'start': 17.76, 'duration': 4.5}]\n"
     ]
    }
   ],
   "source": [
    "print(transcript[2:8])"
   ]
  },
  {
   "cell_type": "code",
   "execution_count": 154,
   "metadata": {},
   "outputs": [
    {
     "name": "stdout",
     "output_type": "stream",
     "text": [
      "12193\n"
     ]
    }
   ],
   "source": [
    "result = \" \"\n",
    "for i in transcript:\n",
    "  result += \" \" + i[\"text\"]\n",
    "print(len(result))"
   ]
  },
  {
   "cell_type": "code",
   "execution_count": 155,
   "metadata": {},
   "outputs": [
    {
     "name": "stdout",
     "output_type": "stream",
     "text": [
      "  [Music] I just wanted to talk about Labor shortages if I can it's something that everywhere you go people have an interest in it and I'm just wondering you know whether it's the UK New Zealand everyone is looking for staff Australia Brisbane Regional areas are no different what do you think needs to change to see operators and businesses secure the staff that they do need and how long do you think before the situation gets back to normal Sarah would you like to take that yeah I'll uh I'll I'll give it a good crack to start with I I think it's really interesting actually I often get asked where have the people gone everyone all over the world in all sectors are short of workers where are they did they did they disappear and there has been some exit from the labor force actually not really in Australia but in other countries that's part of the story but for us here it's not really what's going on actually it's been interesting people have pivoted into new jobs so uh we've got aircrew for example working as a greeters and and staff in hospitals for example I know that from a hospital in Sydney and just other shifts like that have gone through the economy and so that's really been the challenge particularly for this sector as you guys have reopened and obviously a bit later than elsewhere what is the solution well I mean I think that it is going to take a bit of time we can't just magic people overnight but it's obviously very positive to see the migration data that I was showing earlier on I tracked that one a lot and it's been great that's recovered so strongly in the last couple of months and so I think we will start to see things easing particularly from the start of next year but there will be a transition I know that the near term is challenging I don't want to downplay that and there's a lot of challenge there but um economies are very good at adapting and finding new operating rhythms and changing over time so it will happen but I wish it would be right now I don't think it's quite that quick or Tony did you want to contribute to that as well I just think that we have to learn to live with covert once we start living with covert like it's the flu then you'll see a more stabilized labor force and people will start coming back fantastic um if I can go to euros the journey to 2032 building on our strengths is the theme for today I'm actually going to ask all of you this given the current market what can tourism operator operators do to ride through this uncertain period there just seems to be so much changing locally and globally at the moment focusing on 2032 but I guess um you know in the next couple of years first of all what what sort of things can they do to put themselves in a good position there bring back fun I think in all the planning and in all of the conversations people need to let off steam and they need to have fun and travelers want to know that they can just exhale after what's been tricky a couple of years so with all of the planning march to 2032 you cannot forget the human desire to have a good time to feel refreshed and to feel renewed and I think we can't lose the humanity of the trends of the economy of inflation of interest rates of the airline industry we've just got to remember that there's a Humanity behind all of this and when we remember the humanity all the operators need to do this as well we do it as well in our business we get good results do you think that's something that Australia can perhaps is perhaps in a better position to do better than I guess um competitors overseas do you think we invented fun when it comes to Holiday and we're very very good at being very kind and very welcoming there's an Aussie Persona that Global visitors love there's a unique and distinctive flavor of queenslanders let's sell that more and more and I think that's a very attractive proposition and again the humanity the kindness the humor the welcomed nature of Queensland will get us through but I think we can't lose sight of why people travel in the first place Tony do you have any thoughts on that I I just think that as Sarah has mentioned in her presentation demand is very very strong demand for Aviation demand for tourism people are chomping at the bit to travel again we just from an aviation perspective we've just got to bite our time and for this issue over in in Europe to work its way out and then um you know just hopefully the and be thankful for the airlines bringing more capacity back into the market Sarah I I love that comment about fun because for me actually I think the demand is definitely there and it's interesting to see how it's pivoting I mean that's one thing I agree completely as speaking as another non-australian that travel here is is a much bigger part of the psychean culture I also think it's really interesting looking at some of the other Trends and businesses positioning themselves within that nature-based tourism and being conscious about your climate footprint that's a clearly for consumers now a much bigger issue than before and so leaning into that and also uh thinking about how you can digitalize and take advantage of the new technologies on offer I mean we often talk about Labor shortages and obviously some tasks you can't Outsource to the computer but there are ways of you know being smarter in how we work really leaning into that I think is uh as an opportunity and that will ultimately improve the bottom line as well as relieve that help relieve that immediate challenge actually it's interesting what you say about um a different sense in different places I mean I've lived in South Australia and Canberra and you do notice well the ICT I should say coming to Queensland there is very much a different feel different people and and not the ones you know necessarily more important or better than the other but you do notice a very a stark difference when you do come to Queensland maybe it is the sunshine maybe it's the people who knows I wanted to ask you Tony you talked about jet fuel prices uh what what is causing the high cost of jet fuel prices and when do you think they will return to normal well look um Russia produces around eight to ten percent of the world's energy or the world's supply of oil and when you take 10 of the world's oil out of the market then divide that by minus 0.1 for some and I'm not going to go into detail why but that generates the price increase that you'd expect and so that's why we've got prices doubling you're not going to see those prices go down until we see Russia do the right thing and pull out of the Ukraine at at that point you know a lot of issues around the jet fuel and the oil price will just go away you talked about um I guess the critical moment for Airlines as well and how um the the cost of doing business for them is really tough do you think Airlines will reduce their capacity because of the higher fuel prices is that something that you see is a very real um a tricky situation that could actually impact what's happening and tourism out here I they won't reduce capacity but what they'll do is they will modify their plans so instead of recovering to pre-covered levels within the next 12 months or domestically you know within the next few months they'll delay that and they have to because the only way if your unit costs go up in any business you have to raise the price and in aviation the only way that you can do that is to reduce capacity thoughts from the rest of the panel on that will that stop people from traveling do you think well I think it's an interesting a demand and Supply balance isn't it because the demand is so strong and it's very hard I understand completely for the airlines because they're trying to balance that and they do have this extra cost coming through and they need to to factor that in their businesses but with Demand Being as strong as it is it's an interesting balance on whether they could actually increase capacity a little bit and they would get enough demand that they could keep the ticket prices up so I think that's actually the challenge for that particular sector uh you know domestically and internationally over the next sort of 12 24 months as we you know we do go through this period in terms of of the oil price and it playing out so I think uh yeah getting to be mindful of the demand side as well as that supply and cost pressures I'm sure they are but that's something I'll be watching for sure just a couple of tricky months maybe years ahead I'm going to ask you one last question to all of you but I'll start with you roses as the futurist um there's a lot of talk about you know work flexibility working from home that sort of thing and you were mentioning work holiday which seems the ideal I have to say um do you see it lasting and becoming a permanent fixture in in people's people's work or do you think down the track that things were a normal return to normal and everyone will be back in the office and is this in fact a huge opportunity I think there are times when you absolutely need to be in an office to collaborate create imagine I know for our business we have 3 000 people across Australia and New Zealand we love our people and they're coming back into the office two three four days a week because they need to see other humans to create and imagine there are times when you need to focus working from home or a third place is perfect for that I think the hybrid model is here to stay I think it would be wrong to assume that there is no need for an office that just simply isn't the case but it's what you need to be and why so it's where you're going to be the most productive the happiest the most connected to your colleagues and so we're seeing a lot of our people back in for most of the week when they need to focus and they need absolute silence they should be doing it from home and I think that's going to be the way of the future but the opportunity for that in tourism is big as well because it allows people to really plan their weeks and have those three four day weekends and really intensify three to four days maybe in an office and then take some time off and take off for an extended weekend so I think it's going to be a great thing for travel Tony look um I think we're all from Sydney is that right working from home as an airline put it it's Bonzer like seriously it's you know you you you're taking two or three hours of travel time you're taking that back and if you're putting that back into work that's just going to lift productivity so and if you know if there are people different for me I'm sure there are and they have different you know attitudes to it and benefits from it but I think it's terrific and here to stay and as well I mean I think the the point on there are times when you do need your team in the office to collaborate and to actually connect and and you know to establish a team culture and a working Rhythm that then you can take into working from home that's really vital I think you know leaders recognize that and stuff as well actually they want that connection I don't think there's anybody really who wants to just work completely in isolation so that I do expect that that balance is probably here to stay because everyone also recognizes the benefits of working from home I think it's a more General um you know outcome from covid where we are going to see some structural shifts I was thinking in the travel sets and more broadly we've seen changes in people's holiday patterns in their travel patterns I I think some of those will unwind some of it's connected to the challenge around Airlines and ticket prices in particular but I think some of them are are here to say and will become a bit more permanent and it's uh it's always hard to identify them in real time but just leaning into them into those changes that do become really permanent and what that means is an opportunity for the sector I think that's going to be really critical um over the next sort of five ten years beyond the near term Fantastic look thank you very much to the three of you please thank our panelists Tony Weber Rose hurtsig and Sarah Hunter [Music]\n"
     ]
    }
   ],
   "source": [
    "print(result) "
   ]
  },
  {
   "cell_type": "code",
   "execution_count": 156,
   "metadata": {},
   "outputs": [],
   "source": [
    "num_iters = int(len(result)/400)\n",
    "summarized_text = []\n",
    "for i in range(0, num_iters + 1):\n",
    "  start = 0\n",
    "  start = i * 400\n",
    "  end = (i + 1) * 400\n",
    " # print(\"input text \\n\" + result[start:end])\n",
    "  out = result[start:end]\n",
    " \n",
    "  summarized_text.append(out)\n",
    "\n",
    "#print(summarized_text)"
   ]
  },
  {
   "cell_type": "code",
   "execution_count": 157,
   "metadata": {},
   "outputs": [
    {
     "name": "stdout",
     "output_type": "stream",
     "text": [
      "31\n"
     ]
    }
   ],
   "source": [
    "print(len(summarized_text))"
   ]
  },
  {
   "cell_type": "code",
   "execution_count": 158,
   "metadata": {},
   "outputs": [
    {
     "name": "stdout",
     "output_type": "stream",
     "text": [
      "[\"  [Music] I just wanted to talk about Labor shortages if I can it's something that everywhere you go people have an interest in it and I'm just wondering you know whether it's the UK New Zealand everyone is looking for staff Australia Brisbane Regional areas are no different what do you think needs to change to see operators and businesses secure the staff that they do need and how long do you thi\", \"nk before the situation gets back to normal Sarah would you like to take that yeah I'll uh I'll I'll give it a good crack to start with I I think it's really interesting actually I often get asked where have the people gone everyone all over the world in all sectors are short of workers where are they did they did they disappear and there has been some exit from the labor force actually not really\", \" in Australia but in other countries that's part of the story but for us here it's not really what's going on actually it's been interesting people have pivoted into new jobs so uh we've got aircrew for example working as a greeters and and staff in hospitals for example I know that from a hospital in Sydney and just other shifts like that have gone through the economy and so that's really been th\", \"e challenge particularly for this sector as you guys have reopened and obviously a bit later than elsewhere what is the solution well I mean I think that it is going to take a bit of time we can't just magic people overnight but it's obviously very positive to see the migration data that I was showing earlier on I tracked that one a lot and it's been great that's recovered so strongly in the last \", \"couple of months and so I think we will start to see things easing particularly from the start of next year but there will be a transition I know that the near term is challenging I don't want to downplay that and there's a lot of challenge there but um economies are very good at adapting and finding new operating rhythms and changing over time so it will happen but I wish it would be right now I \", \"don't think it's quite that quick or Tony did you want to contribute to that as well I just think that we have to learn to live with covert once we start living with covert like it's the flu then you'll see a more stabilized labor force and people will start coming back fantastic um if I can go to euros the journey to 2032 building on our strengths is the theme for today I'm actually going to ask \", 'all of you this given the current market what can tourism operator operators do to ride through this uncertain period there just seems to be so much changing locally and globally at the moment focusing on 2032 but I guess um you know in the next couple of years first of all what what sort of things can they do to put themselves in a good position there bring back fun I think in all the planning an', \"d in all of the conversations people need to let off steam and they need to have fun and travelers want to know that they can just exhale after what's been tricky a couple of years so with all of the planning march to 2032 you cannot forget the human desire to have a good time to feel refreshed and to feel renewed and I think we can't lose the humanity of the trends of the economy of inflation of \", \"interest rates of the airline industry we've just got to remember that there's a Humanity behind all of this and when we remember the humanity all the operators need to do this as well we do it as well in our business we get good results do you think that's something that Australia can perhaps is perhaps in a better position to do better than I guess um competitors overseas do you think we invente\", \"d fun when it comes to Holiday and we're very very good at being very kind and very welcoming there's an Aussie Persona that Global visitors love there's a unique and distinctive flavor of queenslanders let's sell that more and more and I think that's a very attractive proposition and again the humanity the kindness the humor the welcomed nature of Queensland will get us through but I think we can\", \"'t lose sight of why people travel in the first place Tony do you have any thoughts on that I I just think that as Sarah has mentioned in her presentation demand is very very strong demand for Aviation demand for tourism people are chomping at the bit to travel again we just from an aviation perspective we've just got to bite our time and for this issue over in in Europe to work its way out and th\", \"en um you know just hopefully the and be thankful for the airlines bringing more capacity back into the market Sarah I I love that comment about fun because for me actually I think the demand is definitely there and it's interesting to see how it's pivoting I mean that's one thing I agree completely as speaking as another non-australian that travel here is is a much bigger part of the psychean cul\", \"ture I also think it's really interesting looking at some of the other Trends and businesses positioning themselves within that nature-based tourism and being conscious about your climate footprint that's a clearly for consumers now a much bigger issue than before and so leaning into that and also uh thinking about how you can digitalize and take advantage of the new technologies on offer I mean w\", \"e often talk about Labor shortages and obviously some tasks you can't Outsource to the computer but there are ways of you know being smarter in how we work really leaning into that I think is uh as an opportunity and that will ultimately improve the bottom line as well as relieve that help relieve that immediate challenge actually it's interesting what you say about um a different sense in differe\", \"nt places I mean I've lived in South Australia and Canberra and you do notice well the ICT I should say coming to Queensland there is very much a different feel different people and and not the ones you know necessarily more important or better than the other but you do notice a very a stark difference when you do come to Queensland maybe it is the sunshine maybe it's the people who knows I wanted\", \" to ask you Tony you talked about jet fuel prices uh what what is causing the high cost of jet fuel prices and when do you think they will return to normal well look um Russia produces around eight to ten percent of the world's energy or the world's supply of oil and when you take 10 of the world's oil out of the market then divide that by minus 0.1 for some and I'm not going to go into detail why\", \" but that generates the price increase that you'd expect and so that's why we've got prices doubling you're not going to see those prices go down until we see Russia do the right thing and pull out of the Ukraine at at that point you know a lot of issues around the jet fuel and the oil price will just go away you talked about um I guess the critical moment for Airlines as well and how um the the c\", \"ost of doing business for them is really tough do you think Airlines will reduce their capacity because of the higher fuel prices is that something that you see is a very real um a tricky situation that could actually impact what's happening and tourism out here I they won't reduce capacity but what they'll do is they will modify their plans so instead of recovering to pre-covered levels within th\", \"e next 12 months or domestically you know within the next few months they'll delay that and they have to because the only way if your unit costs go up in any business you have to raise the price and in aviation the only way that you can do that is to reduce capacity thoughts from the rest of the panel on that will that stop people from traveling do you think well I think it's an interesting a dema\", \"nd and Supply balance isn't it because the demand is so strong and it's very hard I understand completely for the airlines because they're trying to balance that and they do have this extra cost coming through and they need to to factor that in their businesses but with Demand Being as strong as it is it's an interesting balance on whether they could actually increase capacity a little bit and the\", \"y would get enough demand that they could keep the ticket prices up so I think that's actually the challenge for that particular sector uh you know domestically and internationally over the next sort of 12 24 months as we you know we do go through this period in terms of of the oil price and it playing out so I think uh yeah getting to be mindful of the demand side as well as that supply and cost \", \"pressures I'm sure they are but that's something I'll be watching for sure just a couple of tricky months maybe years ahead I'm going to ask you one last question to all of you but I'll start with you roses as the futurist um there's a lot of talk about you know work flexibility working from home that sort of thing and you were mentioning work holiday which seems the ideal I have to say um do you \", \"see it lasting and becoming a permanent fixture in in people's people's work or do you think down the track that things were a normal return to normal and everyone will be back in the office and is this in fact a huge opportunity I think there are times when you absolutely need to be in an office to collaborate create imagine I know for our business we have 3 000 people across Australia and New Ze\", \"aland we love our people and they're coming back into the office two three four days a week because they need to see other humans to create and imagine there are times when you need to focus working from home or a third place is perfect for that I think the hybrid model is here to stay I think it would be wrong to assume that there is no need for an office that just simply isn't the case but it's \", \"what you need to be and why so it's where you're going to be the most productive the happiest the most connected to your colleagues and so we're seeing a lot of our people back in for most of the week when they need to focus and they need absolute silence they should be doing it from home and I think that's going to be the way of the future but the opportunity for that in tourism is big as well be\", \"cause it allows people to really plan their weeks and have those three four day weekends and really intensify three to four days maybe in an office and then take some time off and take off for an extended weekend so I think it's going to be a great thing for travel Tony look um I think we're all from Sydney is that right working from home as an airline put it it's Bonzer like seriously it's you kn\", \"ow you you you're taking two or three hours of travel time you're taking that back and if you're putting that back into work that's just going to lift productivity so and if you know if there are people different for me I'm sure there are and they have different you know attitudes to it and benefits from it but I think it's terrific and here to stay and as well I mean I think the the point on ther\", \"e are times when you do need your team in the office to collaborate and to actually connect and and you know to establish a team culture and a working Rhythm that then you can take into working from home that's really vital I think you know leaders recognize that and stuff as well actually they want that connection I don't think there's anybody really who wants to just work completely in isolation\", \" so that I do expect that that balance is probably here to stay because everyone also recognizes the benefits of working from home I think it's a more General um you know outcome from covid where we are going to see some structural shifts I was thinking in the travel sets and more broadly we've seen changes in people's holiday patterns in their travel patterns I I think some of those will unwind s\", \"ome of it's connected to the challenge around Airlines and ticket prices in particular but I think some of them are are here to say and will become a bit more permanent and it's uh it's always hard to identify them in real time but just leaning into them into those changes that do become really permanent and what that means is an opportunity for the sector I think that's going to be really critica\", 'l um over the next sort of five ten years beyond the near term Fantastic look thank you very much to the three of you please thank our panelists Tony Weber Rose hurtsig and Sarah Hunter [Music]']\n"
     ]
    }
   ],
   "source": [
    "print(summarized_text)"
   ]
  },
  {
   "cell_type": "code",
   "execution_count": 159,
   "metadata": {},
   "outputs": [],
   "source": [
    "results = \"\"\n",
    "for i in summarized_text:\n",
    "    results += i + \". \""
   ]
  },
  {
   "cell_type": "code",
   "execution_count": 160,
   "metadata": {},
   "outputs": [
    {
     "name": "stdout",
     "output_type": "stream",
     "text": [
      "  [Music] I just wanted to talk about Labor shortages if I can it's something that everywhere you go people have an interest in it and I'm just wondering you know whether it's the UK New Zealand everyone is looking for staff Australia Brisbane Regional areas are no different what do you think needs to change to see operators and businesses secure the staff that they do need and how long do you thi. nk before the situation gets back to normal Sarah would you like to take that yeah I'll uh I'll I'll give it a good crack to start with I I think it's really interesting actually I often get asked where have the people gone everyone all over the world in all sectors are short of workers where are they did they did they disappear and there has been some exit from the labor force actually not really.  in Australia but in other countries that's part of the story but for us here it's not really what's going on actually it's been interesting people have pivoted into new jobs so uh we've got aircrew for example working as a greeters and and staff in hospitals for example I know that from a hospital in Sydney and just other shifts like that have gone through the economy and so that's really been th. e challenge particularly for this sector as you guys have reopened and obviously a bit later than elsewhere what is the solution well I mean I think that it is going to take a bit of time we can't just magic people overnight but it's obviously very positive to see the migration data that I was showing earlier on I tracked that one a lot and it's been great that's recovered so strongly in the last . couple of months and so I think we will start to see things easing particularly from the start of next year but there will be a transition I know that the near term is challenging I don't want to downplay that and there's a lot of challenge there but um economies are very good at adapting and finding new operating rhythms and changing over time so it will happen but I wish it would be right now I . don't think it's quite that quick or Tony did you want to contribute to that as well I just think that we have to learn to live with covert once we start living with covert like it's the flu then you'll see a more stabilized labor force and people will start coming back fantastic um if I can go to euros the journey to 2032 building on our strengths is the theme for today I'm actually going to ask . all of you this given the current market what can tourism operator operators do to ride through this uncertain period there just seems to be so much changing locally and globally at the moment focusing on 2032 but I guess um you know in the next couple of years first of all what what sort of things can they do to put themselves in a good position there bring back fun I think in all the planning an. d in all of the conversations people need to let off steam and they need to have fun and travelers want to know that they can just exhale after what's been tricky a couple of years so with all of the planning march to 2032 you cannot forget the human desire to have a good time to feel refreshed and to feel renewed and I think we can't lose the humanity of the trends of the economy of inflation of . interest rates of the airline industry we've just got to remember that there's a Humanity behind all of this and when we remember the humanity all the operators need to do this as well we do it as well in our business we get good results do you think that's something that Australia can perhaps is perhaps in a better position to do better than I guess um competitors overseas do you think we invente. d fun when it comes to Holiday and we're very very good at being very kind and very welcoming there's an Aussie Persona that Global visitors love there's a unique and distinctive flavor of queenslanders let's sell that more and more and I think that's a very attractive proposition and again the humanity the kindness the humor the welcomed nature of Queensland will get us through but I think we can. 't lose sight of why people travel in the first place Tony do you have any thoughts on that I I just think that as Sarah has mentioned in her presentation demand is very very strong demand for Aviation demand for tourism people are chomping at the bit to travel again we just from an aviation perspective we've just got to bite our time and for this issue over in in Europe to work its way out and th. en um you know just hopefully the and be thankful for the airlines bringing more capacity back into the market Sarah I I love that comment about fun because for me actually I think the demand is definitely there and it's interesting to see how it's pivoting I mean that's one thing I agree completely as speaking as another non-australian that travel here is is a much bigger part of the psychean cul. ture I also think it's really interesting looking at some of the other Trends and businesses positioning themselves within that nature-based tourism and being conscious about your climate footprint that's a clearly for consumers now a much bigger issue than before and so leaning into that and also uh thinking about how you can digitalize and take advantage of the new technologies on offer I mean w. e often talk about Labor shortages and obviously some tasks you can't Outsource to the computer but there are ways of you know being smarter in how we work really leaning into that I think is uh as an opportunity and that will ultimately improve the bottom line as well as relieve that help relieve that immediate challenge actually it's interesting what you say about um a different sense in differe. nt places I mean I've lived in South Australia and Canberra and you do notice well the ICT I should say coming to Queensland there is very much a different feel different people and and not the ones you know necessarily more important or better than the other but you do notice a very a stark difference when you do come to Queensland maybe it is the sunshine maybe it's the people who knows I wanted.  to ask you Tony you talked about jet fuel prices uh what what is causing the high cost of jet fuel prices and when do you think they will return to normal well look um Russia produces around eight to ten percent of the world's energy or the world's supply of oil and when you take 10 of the world's oil out of the market then divide that by minus 0.1 for some and I'm not going to go into detail why.  but that generates the price increase that you'd expect and so that's why we've got prices doubling you're not going to see those prices go down until we see Russia do the right thing and pull out of the Ukraine at at that point you know a lot of issues around the jet fuel and the oil price will just go away you talked about um I guess the critical moment for Airlines as well and how um the the c. ost of doing business for them is really tough do you think Airlines will reduce their capacity because of the higher fuel prices is that something that you see is a very real um a tricky situation that could actually impact what's happening and tourism out here I they won't reduce capacity but what they'll do is they will modify their plans so instead of recovering to pre-covered levels within th. e next 12 months or domestically you know within the next few months they'll delay that and they have to because the only way if your unit costs go up in any business you have to raise the price and in aviation the only way that you can do that is to reduce capacity thoughts from the rest of the panel on that will that stop people from traveling do you think well I think it's an interesting a dema. nd and Supply balance isn't it because the demand is so strong and it's very hard I understand completely for the airlines because they're trying to balance that and they do have this extra cost coming through and they need to to factor that in their businesses but with Demand Being as strong as it is it's an interesting balance on whether they could actually increase capacity a little bit and the. y would get enough demand that they could keep the ticket prices up so I think that's actually the challenge for that particular sector uh you know domestically and internationally over the next sort of 12 24 months as we you know we do go through this period in terms of of the oil price and it playing out so I think uh yeah getting to be mindful of the demand side as well as that supply and cost . pressures I'm sure they are but that's something I'll be watching for sure just a couple of tricky months maybe years ahead I'm going to ask you one last question to all of you but I'll start with you roses as the futurist um there's a lot of talk about you know work flexibility working from home that sort of thing and you were mentioning work holiday which seems the ideal I have to say um do you . see it lasting and becoming a permanent fixture in in people's people's work or do you think down the track that things were a normal return to normal and everyone will be back in the office and is this in fact a huge opportunity I think there are times when you absolutely need to be in an office to collaborate create imagine I know for our business we have 3 000 people across Australia and New Ze. aland we love our people and they're coming back into the office two three four days a week because they need to see other humans to create and imagine there are times when you need to focus working from home or a third place is perfect for that I think the hybrid model is here to stay I think it would be wrong to assume that there is no need for an office that just simply isn't the case but it's . what you need to be and why so it's where you're going to be the most productive the happiest the most connected to your colleagues and so we're seeing a lot of our people back in for most of the week when they need to focus and they need absolute silence they should be doing it from home and I think that's going to be the way of the future but the opportunity for that in tourism is big as well be. cause it allows people to really plan their weeks and have those three four day weekends and really intensify three to four days maybe in an office and then take some time off and take off for an extended weekend so I think it's going to be a great thing for travel Tony look um I think we're all from Sydney is that right working from home as an airline put it it's Bonzer like seriously it's you kn. ow you you you're taking two or three hours of travel time you're taking that back and if you're putting that back into work that's just going to lift productivity so and if you know if there are people different for me I'm sure there are and they have different you know attitudes to it and benefits from it but I think it's terrific and here to stay and as well I mean I think the the point on ther. e are times when you do need your team in the office to collaborate and to actually connect and and you know to establish a team culture and a working Rhythm that then you can take into working from home that's really vital I think you know leaders recognize that and stuff as well actually they want that connection I don't think there's anybody really who wants to just work completely in isolation.  so that I do expect that that balance is probably here to stay because everyone also recognizes the benefits of working from home I think it's a more General um you know outcome from covid where we are going to see some structural shifts I was thinking in the travel sets and more broadly we've seen changes in people's holiday patterns in their travel patterns I I think some of those will unwind s. ome of it's connected to the challenge around Airlines and ticket prices in particular but I think some of them are are here to say and will become a bit more permanent and it's uh it's always hard to identify them in real time but just leaning into them into those changes that do become really permanent and what that means is an opportunity for the sector I think that's going to be really critica. l um over the next sort of five ten years beyond the near term Fantastic look thank you very much to the three of you please thank our panelists Tony Weber Rose hurtsig and Sarah Hunter [Music]. \n"
     ]
    }
   ],
   "source": [
    "print(results)"
   ]
  },
  {
   "cell_type": "code",
   "execution_count": 161,
   "metadata": {},
   "outputs": [
    {
     "data": {
      "text/plain": [
       "'\\nresults = results.split(\".\")\\nprint(results)\\n'"
      ]
     },
     "execution_count": 161,
     "metadata": {},
     "output_type": "execute_result"
    }
   ],
   "source": [
    "'''\n",
    "results = results.split(\".\")\n",
    "print(results)\n",
    "'''"
   ]
  },
  {
   "cell_type": "code",
   "execution_count": null,
   "metadata": {},
   "outputs": [],
   "source": []
  },
  {
   "cell_type": "code",
   "execution_count": 162,
   "metadata": {},
   "outputs": [
    {
     "name": "stdout",
     "output_type": "stream",
     "text": [
      "12255\n"
     ]
    }
   ],
   "source": [
    "print(len(results))"
   ]
  },
  {
   "cell_type": "code",
   "execution_count": 163,
   "metadata": {},
   "outputs": [
    {
     "data": {
      "text/plain": [
       "'\\nnew_results = \"\"\\nfor i in results:\\n    new_results += i + \". \"\\n'"
      ]
     },
     "execution_count": 163,
     "metadata": {},
     "output_type": "execute_result"
    }
   ],
   "source": [
    "'''\n",
    "new_results = \"\"\n",
    "for i in results:\n",
    "    new_results += i + \". \"\n",
    "'''       "
   ]
  },
  {
   "cell_type": "code",
   "execution_count": 164,
   "metadata": {},
   "outputs": [],
   "source": [
    "#print(new_results)"
   ]
  },
  {
   "cell_type": "code",
   "execution_count": 165,
   "metadata": {},
   "outputs": [],
   "source": [
    "summarizer1 = LuhnSummarizer()\n",
    "parser1 = PlaintextParser.from_string(\n",
    "    results,\n",
    "    Tokenizer(\"english\")\n",
    ")\n",
    "summary = summarizer1(parser1.document, sentences_count=5)"
   ]
  },
  {
   "cell_type": "code",
   "execution_count": 166,
   "metadata": {},
   "outputs": [
    {
     "name": "stdout",
     "output_type": "stream",
     "text": [
      "5\n"
     ]
    }
   ],
   "source": [
    "print(len(summary)) "
   ]
  },
  {
   "cell_type": "code",
   "execution_count": 167,
   "metadata": {},
   "outputs": [
    {
     "name": "stdout",
     "output_type": "stream",
     "text": [
      "(<Sentence: couple of months and so I think we will start to see things easing particularly from the start of next year but there will be a transition I know that the near term is challenging I don't want to downplay that and there's a lot of challenge there but um economies are very good at adapting and finding new operating rhythms and changing over time so it will happen but I wish it would be right now I . don't think it's quite that quick or Tony did you want to contribute to that as well I just think that we have to learn to live with covert once we start living with covert like it's the flu then you'll see a more stabilized labor force and people will start coming back fantastic um if I can go to euros the journey to 2032 building on our strengths is the theme for today I'm actually going to ask .>, <Sentence: ture I also think it's really interesting looking at some of the other Trends and businesses positioning themselves within that nature-based tourism and being conscious about your climate footprint that's a clearly for consumers now a much bigger issue than before and so leaning into that and also uh thinking about how you can digitalize and take advantage of the new technologies on offer I mean w. e often talk about Labor shortages and obviously some tasks you can't Outsource to the computer but there are ways of you know being smarter in how we work really leaning into that I think is uh as an opportunity and that will ultimately improve the bottom line as well as relieve that help relieve that immediate challenge actually it's interesting what you say about um a different sense in differe.>, <Sentence: but that generates the price increase that you'd expect and so that's why we've got prices doubling you're not going to see those prices go down until we see Russia do the right thing and pull out of the Ukraine at at that point you know a lot of issues around the jet fuel and the oil price will just go away you talked about um I guess the critical moment for Airlines as well and how um the the c. ost of doing business for them is really tough do you think Airlines will reduce their capacity because of the higher fuel prices is that something that you see is a very real um a tricky situation that could actually impact what's happening and tourism out here I they won't reduce capacity but what they'll do is they will modify their plans so instead of recovering to pre-covered levels within th.>, <Sentence: what you need to be and why so it's where you're going to be the most productive the happiest the most connected to your colleagues and so we're seeing a lot of our people back in for most of the week when they need to focus and they need absolute silence they should be doing it from home and I think that's going to be the way of the future but the opportunity for that in tourism is big as well be.>, <Sentence: so that I do expect that that balance is probably here to stay because everyone also recognizes the benefits of working from home I think it's a more General um you know outcome from covid where we are going to see some structural shifts I was thinking in the travel sets and more broadly we've seen changes in people's holiday patterns in their travel patterns I I think some of those will unwind s. ome of it's connected to the challenge around Airlines and ticket prices in particular but I think some of them are are here to say and will become a bit more permanent and it's uh it's always hard to identify them in real time but just leaning into them into those changes that do become really permanent and what that means is an opportunity for the sector I think that's going to be really critica.>)\n"
     ]
    }
   ],
   "source": [
    "print(summary)"
   ]
  },
  {
   "cell_type": "code",
   "execution_count": 170,
   "metadata": {},
   "outputs": [
    {
     "name": "stdout",
     "output_type": "stream",
     "text": [
      "3616\n",
      "couple of months and so I think we will start to see things easing particularly from the start of next year but there will be a transition I know that the near term is challenging I don't want to downplay that and there's a lot of challenge there but um economies are very good at adapting and finding new operating rhythms and changing over time so it will happen but I wish it would be right now I . don't think it's quite that quick or Tony did you want to contribute to that as well I just think that we have to learn to live with covert once we start living with covert like it's the flu then you'll see a more stabilized labor force and people will start coming back fantastic um if I can go to euros the journey to 2032 building on our strengths is the theme for today I'm actually going to ask . ture I also think it's really interesting looking at some of the other Trends and businesses positioning themselves within that nature-based tourism and being conscious about your climate footprint that's a clearly for consumers now a much bigger issue than before and so leaning into that and also uh thinking about how you can digitalize and take advantage of the new technologies on offer I mean w. e often talk about Labor shortages and obviously some tasks you can't Outsource to the computer but there are ways of you know being smarter in how we work really leaning into that I think is uh as an opportunity and that will ultimately improve the bottom line as well as relieve that help relieve that immediate challenge actually it's interesting what you say about um a different sense in differe. but that generates the price increase that you'd expect and so that's why we've got prices doubling you're not going to see those prices go down until we see Russia do the right thing and pull out of the Ukraine at at that point you know a lot of issues around the jet fuel and the oil price will just go away you talked about um I guess the critical moment for Airlines as well and how um the the c. ost of doing business for them is really tough do you think Airlines will reduce their capacity because of the higher fuel prices is that something that you see is a very real um a tricky situation that could actually impact what's happening and tourism out here I they won't reduce capacity but what they'll do is they will modify their plans so instead of recovering to pre-covered levels within th. what you need to be and why so it's where you're going to be the most productive the happiest the most connected to your colleagues and so we're seeing a lot of our people back in for most of the week when they need to focus and they need absolute silence they should be doing it from home and I think that's going to be the way of the future but the opportunity for that in tourism is big as well be. so that I do expect that that balance is probably here to stay because everyone also recognizes the benefits of working from home I think it's a more General um you know outcome from covid where we are going to see some structural shifts I was thinking in the travel sets and more broadly we've seen changes in people's holiday patterns in their travel patterns I I think some of those will unwind s. ome of it's connected to the challenge around Airlines and ticket prices in particular but I think some of them are are here to say and will become a bit more permanent and it's uh it's always hard to identify them in real time but just leaning into them into those changes that do become really permanent and what that means is an opportunity for the sector I think that's going to be really critica. \n"
     ]
    }
   ],
   "source": [
    "final_result = \"\"\n",
    "for i in summary:\n",
    "    a = wrap(str(i))\n",
    "    for j in a:\n",
    "        final_result += j + \" \"\n",
    "print(len(final_result))\n",
    "print(final_result) \n",
    "    "
   ]
  },
  {
   "cell_type": "code",
   "execution_count": 171,
   "metadata": {},
   "outputs": [
    {
     "name": "stdout",
     "output_type": "stream",
     "text": [
      "Input: \n",
      "  [Music] I just wanted to talk about Labor shortages if I can it's something that everywhere you go people have an interest in it and I'm just wondering you know whether it's the UK New Zealand everyone is looking for staff Australia Brisbane Regional areas are no different what do you think needs to change to see operators and businesses secure the staff that they do need and how long do you thi. nk before the situation gets back to normal Sarah would you like to take that yeah I'll uh I'll I'll give it a good crack to start with I I think it's really interesting actually I often get asked where have the people gone everyone all over the world in all sectors are short of workers where are they did they did they disappear and there has been some exit from the labor force actually not really.  in Australia but in other countries that's part of the story but for us here it's not really what's going on actually it's been interesting people have pivoted into new jobs so uh we've got aircrew for example working as a greeters and and staff in hospitals for example I know that from a hospital in Sydney and just other shifts like that have gone through the economy and so that's really been th. e challenge particularly for this sector as you guys have reopened and obviously a bit later than elsewhere what is the solution well I mean I think that it is going to take a bit of time we can't just magic people overnight but it's obviously very positive to see the migration data that I was showing earlier on I tracked that one a lot and it's been great that's recovered so strongly in the last . couple of months and so I think we will start to see things easing particularly from the start of next year but there will be a transition I know that the near term is challenging I don't want to downplay that and there's a lot of challenge there but um economies are very good at adapting and finding new operating rhythms and changing over time so it will happen but I wish it would be right now I . don't think it's quite that quick or Tony did you want to contribute to that as well I just think that we have to learn to live with covert once we start living with covert like it's the flu then you'll see a more stabilized labor force and people will start coming back fantastic um if I can go to euros the journey to 2032 building on our strengths is the theme for today I'm actually going to ask . all of you this given the current market what can tourism operator operators do to ride through this uncertain period there just seems to be so much changing locally and globally at the moment focusing on 2032 but I guess um you know in the next couple of years first of all what what sort of things can they do to put themselves in a good position there bring back fun I think in all the planning an. d in all of the conversations people need to let off steam and they need to have fun and travelers want to know that they can just exhale after what's been tricky a couple of years so with all of the planning march to 2032 you cannot forget the human desire to have a good time to feel refreshed and to feel renewed and I think we can't lose the humanity of the trends of the economy of inflation of . interest rates of the airline industry we've just got to remember that there's a Humanity behind all of this and when we remember the humanity all the operators need to do this as well we do it as well in our business we get good results do you think that's something that Australia can perhaps is perhaps in a better position to do better than I guess um competitors overseas do you think we invente. d fun when it comes to Holiday and we're very very good at being very kind and very welcoming there's an Aussie Persona that Global visitors love there's a unique and distinctive flavor of queenslanders let's sell that more and more and I think that's a very attractive proposition and again the humanity the kindness the humor the welcomed nature of Queensland will get us through but I think we can. 't lose sight of why people travel in the first place Tony do you have any thoughts on that I I just think that as Sarah has mentioned in her presentation demand is very very strong demand for Aviation demand for tourism people are chomping at the bit to travel again we just from an aviation perspective we've just got to bite our time and for this issue over in in Europe to work its way out and th. en um you know just hopefully the and be thankful for the airlines bringing more capacity back into the market Sarah I I love that comment about fun because for me actually I think the demand is definitely there and it's interesting to see how it's pivoting I mean that's one thing I agree completely as speaking as another non-australian that travel here is is a much bigger part of the psychean cul. ture I also think it's really interesting looking at some of the other Trends and businesses positioning themselves within that nature-based tourism and being conscious about your climate footprint that's a clearly for consumers now a much bigger issue than before and so leaning into that and also uh thinking about how you can digitalize and take advantage of the new technologies on offer I mean w. e often talk about Labor shortages and obviously some tasks you can't Outsource to the computer but there are ways of you know being smarter in how we work really leaning into that I think is uh as an opportunity and that will ultimately improve the bottom line as well as relieve that help relieve that immediate challenge actually it's interesting what you say about um a different sense in differe. nt places I mean I've lived in South Australia and Canberra and you do notice well the ICT I should say coming to Queensland there is very much a different feel different people and and not the ones you know necessarily more important or better than the other but you do notice a very a stark difference when you do come to Queensland maybe it is the sunshine maybe it's the people who knows I wanted.  to ask you Tony you talked about jet fuel prices uh what what is causing the high cost of jet fuel prices and when do you think they will return to normal well look um Russia produces around eight to ten percent of the world's energy or the world's supply of oil and when you take 10 of the world's oil out of the market then divide that by minus 0.1 for some and I'm not going to go into detail why.  but that generates the price increase that you'd expect and so that's why we've got prices doubling you're not going to see those prices go down until we see Russia do the right thing and pull out of the Ukraine at at that point you know a lot of issues around the jet fuel and the oil price will just go away you talked about um I guess the critical moment for Airlines as well and how um the the c. ost of doing business for them is really tough do you think Airlines will reduce their capacity because of the higher fuel prices is that something that you see is a very real um a tricky situation that could actually impact what's happening and tourism out here I they won't reduce capacity but what they'll do is they will modify their plans so instead of recovering to pre-covered levels within th. e next 12 months or domestically you know within the next few months they'll delay that and they have to because the only way if your unit costs go up in any business you have to raise the price and in aviation the only way that you can do that is to reduce capacity thoughts from the rest of the panel on that will that stop people from traveling do you think well I think it's an interesting a dema. nd and Supply balance isn't it because the demand is so strong and it's very hard I understand completely for the airlines because they're trying to balance that and they do have this extra cost coming through and they need to to factor that in their businesses but with Demand Being as strong as it is it's an interesting balance on whether they could actually increase capacity a little bit and the. y would get enough demand that they could keep the ticket prices up so I think that's actually the challenge for that particular sector uh you know domestically and internationally over the next sort of 12 24 months as we you know we do go through this period in terms of of the oil price and it playing out so I think uh yeah getting to be mindful of the demand side as well as that supply and cost . pressures I'm sure they are but that's something I'll be watching for sure just a couple of tricky months maybe years ahead I'm going to ask you one last question to all of you but I'll start with you roses as the futurist um there's a lot of talk about you know work flexibility working from home that sort of thing and you were mentioning work holiday which seems the ideal I have to say um do you . see it lasting and becoming a permanent fixture in in people's people's work or do you think down the track that things were a normal return to normal and everyone will be back in the office and is this in fact a huge opportunity I think there are times when you absolutely need to be in an office to collaborate create imagine I know for our business we have 3 000 people across Australia and New Ze. aland we love our people and they're coming back into the office two three four days a week because they need to see other humans to create and imagine there are times when you need to focus working from home or a third place is perfect for that I think the hybrid model is here to stay I think it would be wrong to assume that there is no need for an office that just simply isn't the case but it's . what you need to be and why so it's where you're going to be the most productive the happiest the most connected to your colleagues and so we're seeing a lot of our people back in for most of the week when they need to focus and they need absolute silence they should be doing it from home and I think that's going to be the way of the future but the opportunity for that in tourism is big as well be. cause it allows people to really plan their weeks and have those three four day weekends and really intensify three to four days maybe in an office and then take some time off and take off for an extended weekend so I think it's going to be a great thing for travel Tony look um I think we're all from Sydney is that right working from home as an airline put it it's Bonzer like seriously it's you kn. ow you you you're taking two or three hours of travel time you're taking that back and if you're putting that back into work that's just going to lift productivity so and if you know if there are people different for me I'm sure there are and they have different you know attitudes to it and benefits from it but I think it's terrific and here to stay and as well I mean I think the the point on ther. e are times when you do need your team in the office to collaborate and to actually connect and and you know to establish a team culture and a working Rhythm that then you can take into working from home that's really vital I think you know leaders recognize that and stuff as well actually they want that connection I don't think there's anybody really who wants to just work completely in isolation.  so that I do expect that that balance is probably here to stay because everyone also recognizes the benefits of working from home I think it's a more General um you know outcome from covid where we are going to see some structural shifts I was thinking in the travel sets and more broadly we've seen changes in people's holiday patterns in their travel patterns I I think some of those will unwind s. ome of it's connected to the challenge around Airlines and ticket prices in particular but I think some of them are are here to say and will become a bit more permanent and it's uh it's always hard to identify them in real time but just leaning into them into those changes that do become really permanent and what that means is an opportunity for the sector I think that's going to be really critica. l um over the next sort of five ten years beyond the near term Fantastic look thank you very much to the three of you please thank our panelists Tony Weber Rose hurtsig and Sarah Hunter [Music]. \n",
      "\n",
      "\n",
      "\n",
      "\n",
      "\n",
      "\n",
      "\n",
      "\n",
      "\n",
      "\n",
      "=============================================================================================================\n",
      "\n",
      "\n",
      "\n",
      "\n",
      "\n",
      " \n",
      "Output Summary: \n",
      "couple of months and so I think we will start to see things easing particularly from the start of next year but there will be a transition I know that the near term is challenging I don't want to downplay that and there's a lot of challenge there but um economies are very good at adapting and finding new operating rhythms and changing over time so it will happen but I wish it would be right now I . don't think it's quite that quick or Tony did you want to contribute to that as well I just think that we have to learn to live with covert once we start living with covert like it's the flu then you'll see a more stabilized labor force and people will start coming back fantastic um if I can go to euros the journey to 2032 building on our strengths is the theme for today I'm actually going to ask . ture I also think it's really interesting looking at some of the other Trends and businesses positioning themselves within that nature-based tourism and being conscious about your climate footprint that's a clearly for consumers now a much bigger issue than before and so leaning into that and also uh thinking about how you can digitalize and take advantage of the new technologies on offer I mean w. e often talk about Labor shortages and obviously some tasks you can't Outsource to the computer but there are ways of you know being smarter in how we work really leaning into that I think is uh as an opportunity and that will ultimately improve the bottom line as well as relieve that help relieve that immediate challenge actually it's interesting what you say about um a different sense in differe. but that generates the price increase that you'd expect and so that's why we've got prices doubling you're not going to see those prices go down until we see Russia do the right thing and pull out of the Ukraine at at that point you know a lot of issues around the jet fuel and the oil price will just go away you talked about um I guess the critical moment for Airlines as well and how um the the c. ost of doing business for them is really tough do you think Airlines will reduce their capacity because of the higher fuel prices is that something that you see is a very real um a tricky situation that could actually impact what's happening and tourism out here I they won't reduce capacity but what they'll do is they will modify their plans so instead of recovering to pre-covered levels within th. what you need to be and why so it's where you're going to be the most productive the happiest the most connected to your colleagues and so we're seeing a lot of our people back in for most of the week when they need to focus and they need absolute silence they should be doing it from home and I think that's going to be the way of the future but the opportunity for that in tourism is big as well be. so that I do expect that that balance is probably here to stay because everyone also recognizes the benefits of working from home I think it's a more General um you know outcome from covid where we are going to see some structural shifts I was thinking in the travel sets and more broadly we've seen changes in people's holiday patterns in their travel patterns I I think some of those will unwind s. ome of it's connected to the challenge around Airlines and ticket prices in particular but I think some of them are are here to say and will become a bit more permanent and it's uh it's always hard to identify them in real time but just leaning into them into those changes that do become really permanent and what that means is an opportunity for the sector I think that's going to be really critica. \n",
      "\n",
      "\n"
     ]
    }
   ],
   "source": [
    "print(\"Input: \")\n",
    "print(results)\n",
    "print() \n",
    "print() \n",
    "print() \n",
    "print() \n",
    "print() \n",
    "print() \n",
    "print() \n",
    "print() \n",
    "print() \n",
    "print() \n",
    "\n",
    "print(\"=============================================================================================================\")\n",
    "print() \n",
    "print() \n",
    "print() \n",
    "print() \n",
    "print() \n",
    "print(\" \")\n",
    "print(\"Output Summary: \")\n",
    "print(final_result)\n",
    "print() \n",
    "print() "
   ]
  }
 ],
 "metadata": {
  "kernelspec": {
   "display_name": "pytorch",
   "language": "python",
   "name": "python3"
  },
  "language_info": {
   "codemirror_mode": {
    "name": "ipython",
    "version": 3
   },
   "file_extension": ".py",
   "mimetype": "text/x-python",
   "name": "python",
   "nbconvert_exporter": "python",
   "pygments_lexer": "ipython3",
   "version": "3.9.13"
  },
  "orig_nbformat": 4,
  "vscode": {
   "interpreter": {
    "hash": "0747f93ff6db21b2db2bf35ad4858dd0825b9c21797c41b4cc32097944ab3f10"
   }
  }
 },
 "nbformat": 4,
 "nbformat_minor": 2
}
