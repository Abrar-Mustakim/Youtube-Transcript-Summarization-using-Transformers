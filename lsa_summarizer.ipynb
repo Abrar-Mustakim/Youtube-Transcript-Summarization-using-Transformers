{
 "cells": [
  {
   "cell_type": "code",
   "execution_count": 35,
   "metadata": {},
   "outputs": [],
   "source": [
    "#pip install sumy\n",
    "import sumy \n",
    "from sumy.summarizers.text_rank import TextRankSummarizer \n",
    "from sumy.summarizers.lsa import LsaSummarizer \n",
    "from sumy.parsers.plaintext import PlaintextParser \n",
    "from sumy.nlp.tokenizers import Tokenizer\n",
    "from textwrap import wrap\n",
    "from youtube_transcript_api import YouTubeTranscriptApi"
   ]
  },
  {
   "cell_type": "code",
   "execution_count": 36,
   "metadata": {},
   "outputs": [],
   "source": [
    "youtube_video = \"https://www.youtube.com/watch?v=FEeTLopLkEo\""
   ]
  },
  {
   "cell_type": "code",
   "execution_count": 37,
   "metadata": {},
   "outputs": [],
   "source": [
    "video_id = youtube_video.split(\"=\")[1]"
   ]
  },
  {
   "cell_type": "code",
   "execution_count": 38,
   "metadata": {},
   "outputs": [
    {
     "name": "stdout",
     "output_type": "stream",
     "text": [
      "FEeTLopLkEo\n"
     ]
    }
   ],
   "source": [
    "print(video_id)"
   ]
  },
  {
   "cell_type": "code",
   "execution_count": 39,
   "metadata": {},
   "outputs": [
    {
     "data": {
      "image/jpeg": "[encoded data removed]",
      "text/html": [
       "\n",
       "        <iframe\n",
       "            width=\"400\"\n",
       "            height=\"300\"\n",
       "            src=\"https://www.youtube.com/embed/FEeTLopLkEo\"\n",
       "            frameborder=\"0\"\n",
       "            allowfullscreen\n",
       "            \n",
       "        ></iframe>\n",
       "        "
      ],
      "text/plain": [
       "<IPython.lib.display.YouTubeVideo at 0x20ad80c0bb0>"
      ]
     },
     "execution_count": 39,
     "metadata": {},
     "output_type": "execute_result"
    }
   ],
   "source": [
    "from IPython.display import YouTubeVideo\n",
    "YouTubeVideo(video_id)"
   ]
  },
  {
   "cell_type": "code",
   "execution_count": 40,
   "metadata": {},
   "outputs": [],
   "source": [
    "transcript = YouTubeTranscriptApi.get_transcript(video_id)"
   ]
  },
  {
   "cell_type": "code",
   "execution_count": 41,
   "metadata": {},
   "outputs": [
    {
     "name": "stdout",
     "output_type": "stream",
     "text": [
      "[{'text': 'Transcriber: Moe Shoji\\nReviewer: Ivana Korom', 'start': 0.0, 'duration': 7.0}, {'text': \"I'd like you all to close your eyes.\", 'start': 10.376, 'duration': 2.269}, {'text': 'Closed? Okay.', 'start': 12.645, 'duration': 2.701}, {'text': \"Now, you can't see me right now,\", 'start': 15.346, 'duration': 1.67}, {'text': \"but I'm actually riding a unicycle,\\njuggling hundreds of balls.\", 'start': 17.016, 'duration': 2.582}]\n"
     ]
    }
   ],
   "source": [
    "print(transcript[0:5])"
   ]
  },
  {
   "cell_type": "code",
   "execution_count": 42,
   "metadata": {},
   "outputs": [
    {
     "name": "stdout",
     "output_type": "stream",
     "text": [
      "14817\n"
     ]
    }
   ],
   "source": [
    "result = \"\"\n",
    "for i in transcript:\n",
    "  result += \" \" + i[\"text\"]\n",
    "print(len(result))"
   ]
  },
  {
   "cell_type": "code",
   "execution_count": 43,
   "metadata": {},
   "outputs": [
    {
     "name": "stdout",
     "output_type": "stream",
     "text": [
      " Transcriber: Moe Shoji\n",
      "Reviewer: Ivana Korom I'd like you all to close your eyes. Closed? Okay. Now, you can't see me right now, but I'm actually riding a unicycle,\n",
      "juggling hundreds of balls. (Laughter) No, keep your eyes closed, though. It's really great. But okay. So close your eyes,\n",
      "and picture an engineer. Everyone got a picture in their head? Nod. Okay. Open your eyes. Raise your hand if you pictured a guy\n",
      "sitting alone at a computer. Okay. Maybe kind of nerdy,\n",
      "pocket protector. Raise your hand if you pictured\n",
      "a train driver. (Laughter) That's a lot of hands. Raise your hand if you pictured a young guy in a hoodie, maybe looks a little\n",
      "like Mark Zuckerberg perhaps. Raise your hand if you pictured someone\n",
      "who looks like me. Okay. Not a lot of hands. Well, if you didn't raise your hand for me, I would like you to please\n",
      "get up and leave. (Laughter) No, just kidding. If you didn't raise your hand for me,\n",
      "it's all right. I get it all the time. Usually when I tell people\n",
      "I'm an engineer, they look at me and they say, \"Ha! No, really, what do you do?\" or they look at me and say, \"Oh, whoa, you must be\n",
      "some kind of genius\" or my favorite is when I told my mother I wanted to major in engineering, she said, \"Eww, why?\" (Laughter) The truth is I'm a female engineer,\n",
      "and I'm a minority. Only 11 percent of engineers\n",
      "in the U.S. are women. So why does this matter?\n",
      "Why do we care? So what. Let's just have the men\n",
      "do all the engineering. Well, engineers are making\n",
      "some of the biggest advances in our society. They're solving things\n",
      "like global warming, making medical breakthroughs, some of the biggest technologies\n",
      "that are changing our lives. These are things that we use every day\n",
      "as people that make our lives better. And with half the population being female, we deserve to have the female perspective. It will only get better\n",
      "with the female perspective. But today engineering\n",
      "really is a boys' club, and I don't fit in. But I'm here today to share my story about how I discovered a passion\n",
      "for engineering, and I'm here to make a bold claim: I don't fit in, but I believe that our little girls will. So this is me when I was a little girl,\n",
      "age six. I was a pretty normal kid. I loved ballet and drawing and riding bikes. I grew up in a small town\n",
      "in Rhode Island, age six. Coincidentally,\n",
      "this is around the age where most girls start to lose an interest in math\n",
      "and science, this young. And it's interesting,\n",
      "some people think, \"Well, biologically maybe girls just\n",
      "aren't as good as those subjects and that's just the way it is,\n",
      "you can't fight nature.\" Well, there was a study\n",
      "done very recently across 65 countries\n",
      "around the world where they tested boys and girls\n",
      "on the same science test. Around the world the girls\n",
      "out-performed the boys, but not in the U.S. What the study suggests\n",
      "is that it's not a biological thing. This is a cultural thing. And this is our culture. This is what we grew up in as girls. The toy aisle, the perfect example\n",
      "of our culture, where we are taught from a very young age that we want to become princesses. I remember when I was a little girl,\n",
      "adults would pat me on the head -- well, actually I come\n",
      "from a Jewish family; so they would grab me by the punim\n",
      "and say, \"Debbie, you are so smart, good for you.\" And I remember as a little girl\n",
      "being so disappointed, wishing that they told me I was pretty. I wanted to be pretty,\n",
      "I didn't want to be smart. And by the time my senior year\n",
      "of high school rolled around, I was applying to college, and I asked my math teacher to write my recommendation letter. She said, \"Okay, Debbie,\n",
      "what do you plan to major in? I will write it in the letter.\" And I said, \"I don't know.\" She said, \"How about engineering? I think you would really excel in it.\" And I thought, engineering. I closed my eyes -- and I pictured a train driver. (Laughter) I had no idea what engineering was, and I was way too embarrassed to ask her. I didn't want to sound stupid. But I thought, \"Ugh, no way,\n",
      "eww, engineering. That's for boys.\n",
      "It's intimidating and boring. And why would she ever think\n",
      "that a creative, artistic girl like me would ever like engineering. No way.\" But I went off to Stanford,\n",
      "which was a big deal. In my high school they actually\n",
      "announced it over the loud speaker. (Laughter) And when I got to Stanford\n",
      "my freshman year, I had no idea what to major in. And that message\n",
      "that that math teacher had said, \"Engineering, you should give it a try,\" it stuck in my head. And so I thought, what the heck, I'm going to take ME101,\n",
      "just give it a try because I couldn't shake that advice\n",
      "that she had given me. And I was so worried\n",
      "that it was going to be my first F. I was terrified, but I went into the class and in that class I finally learned what engineering really was. And to my surprise, we weren't fixing train engines. In that class we got to invent and design things. We had assignments like\n",
      "make a catapult out of a soda bottle and a piece of string and five paper clips\n",
      "and a piece of foam core. It was so cool and so much fun. And in that class,\n",
      "I learned that engineering is really the skill set to build\n",
      "anything you dream up in your head, whether it's a website or a mobile app, to a bridge, to a highway, anything. That's what engineers build. And what an amazing skill set. How empowering to be able\n",
      "to build whatever you want. But the problem was I felt kind of alone. I was always one of a handful of girls in my classes, and I did not fit in. In fact, only 20 percent of undergraduate degrees in engineering and tech and science\n",
      "are awarded to women so it's a real problem. But I stuck with it. I loved the major, and I wanted to do it. That is, until I took\n",
      "an engineering drawing class. This was about halfway through my major and I thought engineering and drawing, this is going to be great. I love art. Finally, I'm going to get to draw. The problem was\n",
      "in this class you had to draw in perspective, draw in 3-D and for some reason I had this\n",
      "total mental block. I was really struggling\n",
      "with the material. And our final assignment\n",
      "we had to put our drawings up on the wall for critique. And you could tell, all the guys\n",
      "in the class -- there were about 80 of them\n",
      "and five of us girls -- the guys had scribbled their drawing\n",
      "ten minutes before and slapped it up on the wall. Meanwhile, I had spent hours\n",
      "the entire weekend. I didn't even go to any parties,\n",
      "working on my drawing. And when the professors\n",
      "went around the room and they got to my drawing,\n",
      "they took a look at it and they looked out into the room. And they said,\n",
      "\"Raise your hand if you think\n",
      "Debbie should pass this class.\" And I just stood there beet red,\n",
      "humiliated, looking around. Some people are kind of\n",
      "half raising their hands. I was horrified. And they're like,\n",
      "\"Come on, raise your hand if you think\n",
      "Debbie should pass the class.\" The room was silent. Finally, my good friend piped up and said, \"How dare you? How dare you humiliate her\n",
      "in front of this room. She, obviously,\n",
      "has put a lot of effort in; and it's your responsibility to teach her,\n",
      "not to make fun of her.\" Well, I'm glad he said that,\n",
      "but even still, the tears were streaming down my face. And I ran out of the classroom\n",
      "and I thought, this isn't for me. I'm not naturally good at this stuff, maybe I should just give up engineering. A lot of girls around this time in their college career\n",
      "think the same thing. But my friend came out, and he said, \"Debbie, don't give up. You can do it, and I'll help you. We just have to work hard together. You'll pick up this stuff.\n",
      "I know you will. So him and I used to go\n",
      "from that moment on to the library. And sometimes we'll be there\n",
      "until three, four in the morning studying. And in that library I saw all of those guys from my classes, the guys who I thought just knew it\n",
      "and it was so easy for them. They it were there\n",
      "at the library at three in the morning. I caught them. (Laughter) And I realized that it's not about\n",
      "being a born genius, it's about how hard you work. This stuff takes a lot of work. But I worked really hard,\n",
      "and I re-did that drawing and I earned my degree. Years later I did some research\n",
      "into this stuff, and I actually learned\n",
      "that I was at a disadvantage. Like a lot of other girls, I had underdeveloped spatial skills. The other interesting thing\n",
      "that I learned is that kids who score better on spatial skills tests grew up playing with construction toys. Well, I thought isn't this a shame. Me and my little sister growing up, our parents never bought us\n",
      "Legos or erector sets or Lincoln logs. We all thought that those were boys toys. I thought, those toys have been\n",
      "marketed to boys for over a hundred years. And they get them interested\n",
      "in math and science. Meanwhile, all we get are\n",
      "the dolls and makeup kits and it's not fair. So I thought, well,\n",
      "I'm an engineer now. I have a degree. I can make anything I want now. I'm going to make\n",
      "an engineering toy for girls, and I'm going to give them the opportunity that I didn't have\n",
      "so that they can discover a passion for engineering\n",
      "much earlier than I did. So I got to work. I quit my job and I worked\n",
      "out of my apartment for months, making a prototype out of thread spools and wooden dowels, pieces I could find\n",
      "from the hardware store. I wanted to find a way to help girls\n",
      "develop their spatial skills. I did all of this research. I met with little girls, and I found something really interesting. I'd buy construction toys and watch them play with them to see how they could be improved and time and time again the girls\n",
      "would get bored with the toys. And so I would say,\n",
      "\"Well, what is your favorite toy?\" And they would run upstairs and they would bring back down a book and they'd say, \"I love reading. Let's read together.\" So I came up with a really simple\n",
      "\"aha\" idea: What if I put those two things together. Spatial plus verbal, a construction set plus stories. And what if those stories\n",
      "were about a girl engineer character named Goldie Blocks. And as she goes on adventures, she solves problems\n",
      "by building simple machines. And so the girls read along,\n",
      "and they get to build with Goldie and it would bring in a role model, and it would bring in the narrative that they so loved. I made this prototype, and I went around the Bay Area testing it on hundreds of kids; and it worked. I had little girls in tutus building belt drives. (Laughter) It was awesome. And I knew I was on to something. So I had all of these\n",
      "ram shackled prototypes in my apartment; and I've been working for months\n",
      "like a hermit, not showering. And a friend of mine said, \"Debbie, do you want\n",
      "to take this to the next level? Do you trust me?\" I said, \"Yeah, yeah.\"\n",
      "\"Do you trust me?\" I'm like, \"Okay.\n",
      "We're not in a movie. What are you talking about?\" He said: \"You need to apply to this tech accelerator program.\" It is the most elite program\n",
      "in Silicon Valley. All the top engineers around the world vie for a position in this program. You need to apply.\" So I applied, and I got in to the big interview day. And I walked into a room\n",
      "of Mark Zuckerburgs sitting there on their computers. Meanwhile, me walking in, the chick with the physical prototype. And I had a napkin over it because,\n",
      "obviously, I had to protect my intellectual property. (Laughter) And so I'm walking in there and gosh, do I not fit in. And one of the guys pipes up and says, \"Oh, did you bring us cookies?\" (Laughter) Well, my confidence was pretty shot; and needless to say, I didn't get into the accelerator. They didn't understand\n",
      "why on earth I would add a book. So, they didn't get it. But I didn't give up. So I brought my prototype\n",
      "to the New York toy fair. It's the international biggest\n",
      "toy show in the U.S. And I thought, okay, this is it.\n",
      "I'm going to go. I'm going to show toy industry veterans. I'm going to talk to store owners\n",
      "and see what they have to say about my engineering toy for girls. And I walked in there thinking\n",
      "toy fair is going to be awesome. There's going to be\n",
      "all these creative types, mad scientists, kids running around, it's going to be so cool. It was a bunch of old men in suits. I don't fit in. Come on. I got through engineering, and now this? So I showed people my prototype; and they all kind of\n",
      "looked at me with pity. And they whispered me a well-known industry secret: construction toys for girls don't sell. And they took my by the arm, and they showed me what does sell,\n",
      "the pink aisle. And they said this is the way it is and so we've come full circle. And I felt pretty dejected\n",
      "after that toy fair, but I wasn't willing to give up. Just because this is the way things are, doesn't mean it's how they have to be. And so I took my prototype. I partnered with a factory, and I turned it into a real toy. The thing was the factory\n",
      "minimum order was 5,000 toys and with all of this rejection, I didn't know\n",
      "if people were going to want it; so I put it up on Kickstarter. I had a goal of raising $150,000 in 30 days to make this toy a reality. I hit go. I crossed my fingers, and I hit my goal in four days. (Applause) And our minimum production, it didn't end up being 5,000 units. It ended up being over 20,000. I had stores calling\n",
      "from all over the world saying, \"My customers are coming in,\n",
      "they want Goldie Blocks. What is this Goldie Blocks?\" I had parents calling in saying, \"Yes, my daughter is more\n",
      "than just a princess.\" (Laughter) I had the press writing articles\n",
      "all about it. The world was waiting for this. They wanted this. The toy industry had it wrong. Yeah, sure, some girls like princesses and tiaras, and I like that stuff too, but there's so much more to us than that. There's so much potential. And for me, I couldn't be more happy to be putting my engineering skills\n",
      "into this product because it leverages not only\n",
      "the math and science that I worked so hard to learn, but also leverages my creativity. And engineering is such a creative thing, and I never knew it. And it's so fun for me\n",
      "to get to use my creative voice and my artistic skills\n",
      "as a part of engineering. And it's so important that we include that perspective. And the other thing\n",
      "that's so great about it is engineering is for people. We're designing things for people. So how fun for me to get to spend my time playing and learning with little girls and understanding what their needs are and designing things for them. It couldn't be more rewarding. Our toys are now hitting\n",
      "the doorsteps of thousands of girls around the world. I just got an email from a mom who said, \"We love playing\n",
      "Goldie Blocks. My four and a half year old,\n",
      "halfway through the game looked at me and said,\n",
      "\"Mommy, am I an engineer?\" And her mom said, \"Yes, sweetie,\n",
      "you can be. You can be anything.\" For so long, for so many years, I felt like I didn't fit in but now I feel like I belong here. I feel like I belong,\n",
      "and our little girls do too. Thank you. (Applause)\n"
     ]
    }
   ],
   "source": [
    "print(result)"
   ]
  },
  {
   "cell_type": "code",
   "execution_count": 44,
   "metadata": {},
   "outputs": [
    {
     "name": "stdout",
     "output_type": "stream",
     "text": [
      " Transcriber: Moe Shoji\n",
      "Reviewer: Ivana Korom I'd like you all to close your eyes. Closed? Okay. Now, you can't see me right now, but I'm actually riding a unicycle,\n",
      "juggling hundreds of balls. (Laughter) No, keep your eyes closed, though. It's really great. But okay. So close your eyes,\n",
      "and picture an engineer. Everyone got a picture in their head? Nod. Okay. Open your eyes. Raise your hand if you pictured a guy\n",
      "sitting alone at a computer. Okay. Maybe kind of nerdy,\n",
      "pocket protector. Raise you\n"
     ]
    }
   ],
   "source": [
    "print(result[0:500])"
   ]
  },
  {
   "cell_type": "code",
   "execution_count": 45,
   "metadata": {},
   "outputs": [],
   "source": [
    "num_iters = int(len(result)/500)\n",
    "summarized_text = []\n",
    "for i in range(0, num_iters + 1):\n",
    "  start = 0\n",
    "  start = i * 2000\n",
    "  end = (i + 1) * 2000\n",
    " # print(\"input text \\n\" + result[start:end])\n",
    "  out = result[start:end]\n",
    " \n",
    "  summarized_text.append(out)\n",
    "\n",
    "#print(summarized_text)"
   ]
  },
  {
   "cell_type": "code",
   "execution_count": 46,
   "metadata": {},
   "outputs": [],
   "source": [
    "summarized = []\n",
    "for i in summarized_text:\n",
    "    if \"\\n\" in i:\n",
    "        i = i.split(\"\\n\")\n",
    "        summarized.append(i) \n",
    "\n",
    "    else: \n",
    "        summarized.append(i) "
   ]
  },
  {
   "cell_type": "code",
   "execution_count": 47,
   "metadata": {},
   "outputs": [
    {
     "name": "stdout",
     "output_type": "stream",
     "text": [
      "[[' Transcriber: Moe Shoji', \"Reviewer: Ivana Korom I'd like you all to close your eyes. Closed? Okay. Now, you can't see me right now, but I'm actually riding a unicycle,\", \"juggling hundreds of balls. (Laughter) No, keep your eyes closed, though. It's really great. But okay. So close your eyes,\", 'and picture an engineer. Everyone got a picture in their head? Nod. Okay. Open your eyes. Raise your hand if you pictured a guy', 'sitting alone at a computer. Okay. Maybe kind of nerdy,', 'pocket protector. Raise your hand if you pictured', \"a train driver. (Laughter) That's a lot of hands. Raise your hand if you pictured a young guy in a hoodie, maybe looks a little\", 'like Mark Zuckerberg perhaps. Raise your hand if you pictured someone', \"who looks like me. Okay. Not a lot of hands. Well, if you didn't raise your hand for me, I would like you to please\", \"get up and leave. (Laughter) No, just kidding. If you didn't raise your hand for me,\", \"it's all right. I get it all the time. Usually when I tell people\", 'I\\'m an engineer, they look at me and they say, \"Ha! No, really, what do you do?\" or they look at me and say, \"Oh, whoa, you must be', 'some kind of genius\" or my favorite is when I told my mother I wanted to major in engineering, she said, \"Eww, why?\" (Laughter) The truth is I\\'m a female engineer,', \"and I'm a minority. Only 11 percent of engineers\", 'in the U.S. are women. So why does this matter?', \"Why do we care? So what. Let's just have the men\", 'do all the engineering. Well, engineers are making', \"some of the biggest advances in our society. They're solving things\", 'like global warming, making medical breakthroughs, some of the biggest technologies', 'that are changing our lives. These are things that we use every day', 'as people that make our lives better. And with half the population being female, we deserve to have the female perspective. It will only get better', 'with the female perspective. But today engineering', \"really is a boys' club, and I don't fit in. But I'm here today to share my story about how I discove\"], ['red a passion', \"for engineering, and I'm here to make a bold claim: I don't fit in, but I believe that our little girls will. So this is me when I was a little girl,\", 'age six. I was a pretty normal kid. I loved ballet and drawing and riding bikes. I grew up in a small town', 'in Rhode Island, age six. Coincidentally,', 'this is around the age where most girls start to lose an interest in math', \"and science, this young. And it's interesting,\", 'some people think, \"Well, biologically maybe girls just', \"aren't as good as those subjects and that's just the way it is,\", 'you can\\'t fight nature.\" Well, there was a study', 'done very recently across 65 countries', 'around the world where they tested boys and girls', 'on the same science test. Around the world the girls', 'out-performed the boys, but not in the U.S. What the study suggests', \"is that it's not a biological thing. This is a cultural thing. And this is our culture. This is what we grew up in as girls. The toy aisle, the perfect example\", 'of our culture, where we are taught from a very young age that we want to become princesses. I remember when I was a little girl,', 'adults would pat me on the head -- well, actually I come', 'from a Jewish family; so they would grab me by the punim', 'and say, \"Debbie, you are so smart, good for you.\" And I remember as a little girl', 'being so disappointed, wishing that they told me I was pretty. I wanted to be pretty,', \"I didn't want to be smart. And by the time my senior year\", 'of high school rolled around, I was applying to college, and I asked my math teacher to write my recommendation letter. She said, \"Okay, Debbie,', 'what do you plan to major in? I will write it in the letter.\" And I said, \"I don\\'t know.\" She said, \"How about engineering? I think you would really excel in it.\" And I thought, engineering. I closed my eyes -- and I pictured a train driver. (Laughter) I had no idea what engineering was, and I was way too embarrassed to ask her. I didn\\'t want to sound stupid. But I thought, \"Ugh, no way,', 'eww, engineering. Th'], [\"at's for boys.\", \"It's intimidating and boring. And why would she ever think\", 'that a creative, artistic girl like me would ever like engineering. No way.\" But I went off to Stanford,', 'which was a big deal. In my high school they actually', 'announced it over the loud speaker. (Laughter) And when I got to Stanford', 'my freshman year, I had no idea what to major in. And that message', 'that that math teacher had said, \"Engineering, you should give it a try,\" it stuck in my head. And so I thought, what the heck, I\\'m going to take ME101,', \"just give it a try because I couldn't shake that advice\", 'that she had given me. And I was so worried', \"that it was going to be my first F. I was terrified, but I went into the class and in that class I finally learned what engineering really was. And to my surprise, we weren't fixing train engines. In that class we got to invent and design things. We had assignments like\", 'make a catapult out of a soda bottle and a piece of string and five paper clips', 'and a piece of foam core. It was so cool and so much fun. And in that class,', 'I learned that engineering is really the skill set to build', \"anything you dream up in your head, whether it's a website or a mobile app, to a bridge, to a highway, anything. That's what engineers build. And what an amazing skill set. How empowering to be able\", 'to build whatever you want. But the problem was I felt kind of alone. I was always one of a handful of girls in my classes, and I did not fit in. In fact, only 20 percent of undergraduate degrees in engineering and tech and science', \"are awarded to women so it's a real problem. But I stuck with it. I loved the major, and I wanted to do it. That is, until I took\", \"an engineering drawing class. This was about halfway through my major and I thought engineering and drawing, this is going to be great. I love art. Finally, I'm going to get to draw. The problem was\", 'in this class you had to draw in perspective, draw in 3-D and for some reason I had this', 'total mental block. I was really str'], ['uggling', 'with the material. And our final assignment', 'we had to put our drawings up on the wall for critique. And you could tell, all the guys', 'in the class -- there were about 80 of them', 'and five of us girls -- the guys had scribbled their drawing', 'ten minutes before and slapped it up on the wall. Meanwhile, I had spent hours', \"the entire weekend. I didn't even go to any parties,\", 'working on my drawing. And when the professors', 'went around the room and they got to my drawing,', 'they took a look at it and they looked out into the room. And they said,', '\"Raise your hand if you think', 'Debbie should pass this class.\" And I just stood there beet red,', 'humiliated, looking around. Some people are kind of', \"half raising their hands. I was horrified. And they're like,\", '\"Come on, raise your hand if you think', 'Debbie should pass the class.\" The room was silent. Finally, my good friend piped up and said, \"How dare you? How dare you humiliate her', 'in front of this room. She, obviously,', \"has put a lot of effort in; and it's your responsibility to teach her,\", 'not to make fun of her.\" Well, I\\'m glad he said that,', 'but even still, the tears were streaming down my face. And I ran out of the classroom', \"and I thought, this isn't for me. I'm not naturally good at this stuff, maybe I should just give up engineering. A lot of girls around this time in their college career\", 'think the same thing. But my friend came out, and he said, \"Debbie, don\\'t give up. You can do it, and I\\'ll help you. We just have to work hard together. You\\'ll pick up this stuff.', 'I know you will. So him and I used to go', \"from that moment on to the library. And sometimes we'll be there\", 'until three, four in the morning studying. And in that library I saw all of those guys from my classes, the guys who I thought just knew it', 'and it was so easy for them. They it were there', \"at the library at three in the morning. I caught them. (Laughter) And I realized that it's not about\", \"being a born genius, it's about how hard you work. This stuff takes a lot o\"], ['f work. But I worked really hard,', 'and I re-did that drawing and I earned my degree. Years later I did some research', 'into this stuff, and I actually learned', 'that I was at a disadvantage. Like a lot of other girls, I had underdeveloped spatial skills. The other interesting thing', \"that I learned is that kids who score better on spatial skills tests grew up playing with construction toys. Well, I thought isn't this a shame. Me and my little sister growing up, our parents never bought us\", 'Legos or erector sets or Lincoln logs. We all thought that those were boys toys. I thought, those toys have been', 'marketed to boys for over a hundred years. And they get them interested', 'in math and science. Meanwhile, all we get are', \"the dolls and makeup kits and it's not fair. So I thought, well,\", \"I'm an engineer now. I have a degree. I can make anything I want now. I'm going to make\", \"an engineering toy for girls, and I'm going to give them the opportunity that I didn't have\", 'so that they can discover a passion for engineering', 'much earlier than I did. So I got to work. I quit my job and I worked', 'out of my apartment for months, making a prototype out of thread spools and wooden dowels, pieces I could find', 'from the hardware store. I wanted to find a way to help girls', \"develop their spatial skills. I did all of this research. I met with little girls, and I found something really interesting. I'd buy construction toys and watch them play with them to see how they could be improved and time and time again the girls\", 'would get bored with the toys. And so I would say,', '\"Well, what is your favorite toy?\" And they would run upstairs and they would bring back down a book and they\\'d say, \"I love reading. Let\\'s read together.\" So I came up with a really simple', '\"aha\" idea: What if I put those two things together. Spatial plus verbal, a construction set plus stories. And what if those stories', 'were about a girl engineer character named Goldie Blocks. And as she goes on adventures, she solves problems', 'by buildi'], ['ng simple machines. And so the girls read along,', 'and they get to build with Goldie and it would bring in a role model, and it would bring in the narrative that they so loved. I made this prototype, and I went around the Bay Area testing it on hundreds of kids; and it worked. I had little girls in tutus building belt drives. (Laughter) It was awesome. And I knew I was on to something. So I had all of these', \"ram shackled prototypes in my apartment; and I've been working for months\", 'like a hermit, not showering. And a friend of mine said, \"Debbie, do you want', 'to take this to the next level? Do you trust me?\" I said, \"Yeah, yeah.\"', '\"Do you trust me?\" I\\'m like, \"Okay.', 'We\\'re not in a movie. What are you talking about?\" He said: \"You need to apply to this tech accelerator program.\" It is the most elite program', 'in Silicon Valley. All the top engineers around the world vie for a position in this program. You need to apply.\" So I applied, and I got in to the big interview day. And I walked into a room', 'of Mark Zuckerburgs sitting there on their computers. Meanwhile, me walking in, the chick with the physical prototype. And I had a napkin over it because,', 'obviously, I had to protect my intellectual property. (Laughter) And so I\\'m walking in there and gosh, do I not fit in. And one of the guys pipes up and says, \"Oh, did you bring us cookies?\" (Laughter) Well, my confidence was pretty shot; and needless to say, I didn\\'t get into the accelerator. They didn\\'t understand', \"why on earth I would add a book. So, they didn't get it. But I didn't give up. So I brought my prototype\", \"to the New York toy fair. It's the international biggest\", 'toy show in the U.S. And I thought, okay, this is it.', \"I'm going to go. I'm going to show toy industry veterans. I'm going to talk to store owners\", 'and see what they have to say about my engineering toy for girls. And I walked in there thinking', \"toy fair is going to be awesome. There's going to be\", 'all these creative types, mad scientists, kids running around, it'], [\"'s going to be so cool. It was a bunch of old men in suits. I don't fit in. Come on. I got through engineering, and now this? So I showed people my prototype; and they all kind of\", \"looked at me with pity. And they whispered me a well-known industry secret: construction toys for girls don't sell. And they took my by the arm, and they showed me what does sell,\", \"the pink aisle. And they said this is the way it is and so we've come full circle. And I felt pretty dejected\", \"after that toy fair, but I wasn't willing to give up. Just because this is the way things are, doesn't mean it's how they have to be. And so I took my prototype. I partnered with a factory, and I turned it into a real toy. The thing was the factory\", \"minimum order was 5,000 toys and with all of this rejection, I didn't know\", \"if people were going to want it; so I put it up on Kickstarter. I had a goal of raising $150,000 in 30 days to make this toy a reality. I hit go. I crossed my fingers, and I hit my goal in four days. (Applause) And our minimum production, it didn't end up being 5,000 units. It ended up being over 20,000. I had stores calling\", 'from all over the world saying, \"My customers are coming in,', 'they want Goldie Blocks. What is this Goldie Blocks?\" I had parents calling in saying, \"Yes, my daughter is more', 'than just a princess.\" (Laughter) I had the press writing articles', \"all about it. The world was waiting for this. They wanted this. The toy industry had it wrong. Yeah, sure, some girls like princesses and tiaras, and I like that stuff too, but there's so much more to us than that. There's so much potential. And for me, I couldn't be more happy to be putting my engineering skills\", 'into this product because it leverages not only', \"the math and science that I worked so hard to learn, but also leverages my creativity. And engineering is such a creative thing, and I never knew it. And it's so fun for me\", 'to get to use my creative voice and my artistic skills', \"as a part of engineering. And it's so important\"], [' that we include that perspective. And the other thing', \"that's so great about it is engineering is for people. We're designing things for people. So how fun for me to get to spend my time playing and learning with little girls and understanding what their needs are and designing things for them. It couldn't be more rewarding. Our toys are now hitting\", 'the doorsteps of thousands of girls around the world. I just got an email from a mom who said, \"We love playing', 'Goldie Blocks. My four and a half year old,', 'halfway through the game looked at me and said,', '\"Mommy, am I an engineer?\" And her mom said, \"Yes, sweetie,', 'you can be. You can be anything.\" For so long, for so many years, I felt like I didn\\'t fit in but now I feel like I belong here. I feel like I belong,', 'and our little girls do too. Thank you. (Applause)'], '', '', '', '', '', '', '', '', '', '', '', '', '', '', '', '', '', '', '', '', '', '']\n"
     ]
    }
   ],
   "source": [
    "print(summarized)"
   ]
  },
  {
   "cell_type": "code",
   "execution_count": 48,
   "metadata": {},
   "outputs": [
    {
     "name": "stdout",
     "output_type": "stream",
     "text": [
      "30\n"
     ]
    }
   ],
   "source": [
    "print(len(summarized))"
   ]
  },
  {
   "cell_type": "code",
   "execution_count": 49,
   "metadata": {},
   "outputs": [],
   "source": [
    "new_result = \"\" \n",
    "for i in summarized:\n",
    "    if len(i) > 0:\n",
    "        for j in i:\n",
    "            new_result += j \n",
    "            new_result += \". \"\n",
    "    else: \n",
    "        continue\n",
    "    "
   ]
  },
  {
   "cell_type": "code",
   "execution_count": 50,
   "metadata": {},
   "outputs": [
    {
     "name": "stdout",
     "output_type": "stream",
     "text": [
      " Transcriber: Moe Shoji. Reviewer: Ivana Korom I'd like you all to close your eyes. Closed? Okay. Now, you can't see me right now, but I'm actually riding a unicycle,. juggling hundreds of balls. (Laughter) No, keep your eyes closed, though. It's really great. But okay. So close your eyes,. and picture an engineer. Everyone got a picture in their head? Nod. Okay. Open your eyes. Raise your hand if you pictured a guy. sitting alone at a computer. Okay. Maybe kind of nerdy,. pocket protector. Raise your hand if you pictured. a train driver. (Laughter) That's a lot of hands. Raise your hand if you pictured a young guy in a hoodie, maybe looks a little. like Mark Zuckerberg perhaps. Raise your hand if you pictured someone. who looks like me. Okay. Not a lot of hands. Well, if you didn't raise your hand for me, I would like you to please. get up and leave. (Laughter) No, just kidding. If you didn't raise your hand for me,. it's all right. I get it all the time. Usually when I tell people. I'm an engineer, they look at me and they say, \"Ha! No, really, what do you do?\" or they look at me and say, \"Oh, whoa, you must be. some kind of genius\" or my favorite is when I told my mother I wanted to major in engineering, she said, \"Eww, why?\" (Laughter) The truth is I'm a female engineer,. and I'm a minority. Only 11 percent of engineers. in the U.S. are women. So why does this matter?. Why do we care? So what. Let's just have the men. do all the engineering. Well, engineers are making. some of the biggest advances in our society. They're solving things. like global warming, making medical breakthroughs, some of the biggest technologies. that are changing our lives. These are things that we use every day. as people that make our lives better. And with half the population being female, we deserve to have the female perspective. It will only get better. with the female perspective. But today engineering. really is a boys' club, and I don't fit in. But I'm here today to share my story about how I discove. red a passion. for engineering, and I'm here to make a bold claim: I don't fit in, but I believe that our little girls will. So this is me when I was a little girl,. age six. I was a pretty normal kid. I loved ballet and drawing and riding bikes. I grew up in a small town. in Rhode Island, age six. Coincidentally,. this is around the age where most girls start to lose an interest in math. and science, this young. And it's interesting,. some people think, \"Well, biologically maybe girls just. aren't as good as those subjects and that's just the way it is,. you can't fight nature.\" Well, there was a study. done very recently across 65 countries. around the world where they tested boys and girls. on the same science test. Around the world the girls. out-performed the boys, but not in the U.S. What the study suggests. is that it's not a biological thing. This is a cultural thing. And this is our culture. This is what we grew up in as girls. The toy aisle, the perfect example. of our culture, where we are taught from a very young age that we want to become princesses. I remember when I was a little girl,. adults would pat me on the head -- well, actually I come. from a Jewish family; so they would grab me by the punim. and say, \"Debbie, you are so smart, good for you.\" And I remember as a little girl. being so disappointed, wishing that they told me I was pretty. I wanted to be pretty,. I didn't want to be smart. And by the time my senior year. of high school rolled around, I was applying to college, and I asked my math teacher to write my recommendation letter. She said, \"Okay, Debbie,. what do you plan to major in? I will write it in the letter.\" And I said, \"I don't know.\" She said, \"How about engineering? I think you would really excel in it.\" And I thought, engineering. I closed my eyes -- and I pictured a train driver. (Laughter) I had no idea what engineering was, and I was way too embarrassed to ask her. I didn't want to sound stupid. But I thought, \"Ugh, no way,. eww, engineering. Th. at's for boys.. It's intimidating and boring. And why would she ever think. that a creative, artistic girl like me would ever like engineering. No way.\" But I went off to Stanford,. which was a big deal. In my high school they actually. announced it over the loud speaker. (Laughter) And when I got to Stanford. my freshman year, I had no idea what to major in. And that message. that that math teacher had said, \"Engineering, you should give it a try,\" it stuck in my head. And so I thought, what the heck, I'm going to take ME101,. just give it a try because I couldn't shake that advice. that she had given me. And I was so worried. that it was going to be my first F. I was terrified, but I went into the class and in that class I finally learned what engineering really was. And to my surprise, we weren't fixing train engines. In that class we got to invent and design things. We had assignments like. make a catapult out of a soda bottle and a piece of string and five paper clips. and a piece of foam core. It was so cool and so much fun. And in that class,. I learned that engineering is really the skill set to build. anything you dream up in your head, whether it's a website or a mobile app, to a bridge, to a highway, anything. That's what engineers build. And what an amazing skill set. How empowering to be able. to build whatever you want. But the problem was I felt kind of alone. I was always one of a handful of girls in my classes, and I did not fit in. In fact, only 20 percent of undergraduate degrees in engineering and tech and science. are awarded to women so it's a real problem. But I stuck with it. I loved the major, and I wanted to do it. That is, until I took. an engineering drawing class. This was about halfway through my major and I thought engineering and drawing, this is going to be great. I love art. Finally, I'm going to get to draw. The problem was. in this class you had to draw in perspective, draw in 3-D and for some reason I had this. total mental block. I was really str. uggling. with the material. And our final assignment. we had to put our drawings up on the wall for critique. And you could tell, all the guys. in the class -- there were about 80 of them. and five of us girls -- the guys had scribbled their drawing. ten minutes before and slapped it up on the wall. Meanwhile, I had spent hours. the entire weekend. I didn't even go to any parties,. working on my drawing. And when the professors. went around the room and they got to my drawing,. they took a look at it and they looked out into the room. And they said,. \"Raise your hand if you think. Debbie should pass this class.\" And I just stood there beet red,. humiliated, looking around. Some people are kind of. half raising their hands. I was horrified. And they're like,. \"Come on, raise your hand if you think. Debbie should pass the class.\" The room was silent. Finally, my good friend piped up and said, \"How dare you? How dare you humiliate her. in front of this room. She, obviously,. has put a lot of effort in; and it's your responsibility to teach her,. not to make fun of her.\" Well, I'm glad he said that,. but even still, the tears were streaming down my face. And I ran out of the classroom. and I thought, this isn't for me. I'm not naturally good at this stuff, maybe I should just give up engineering. A lot of girls around this time in their college career. think the same thing. But my friend came out, and he said, \"Debbie, don't give up. You can do it, and I'll help you. We just have to work hard together. You'll pick up this stuff.. I know you will. So him and I used to go. from that moment on to the library. And sometimes we'll be there. until three, four in the morning studying. And in that library I saw all of those guys from my classes, the guys who I thought just knew it. and it was so easy for them. They it were there. at the library at three in the morning. I caught them. (Laughter) And I realized that it's not about. being a born genius, it's about how hard you work. This stuff takes a lot o. f work. But I worked really hard,. and I re-did that drawing and I earned my degree. Years later I did some research. into this stuff, and I actually learned. that I was at a disadvantage. Like a lot of other girls, I had underdeveloped spatial skills. The other interesting thing. that I learned is that kids who score better on spatial skills tests grew up playing with construction toys. Well, I thought isn't this a shame. Me and my little sister growing up, our parents never bought us. Legos or erector sets or Lincoln logs. We all thought that those were boys toys. I thought, those toys have been. marketed to boys for over a hundred years. And they get them interested. in math and science. Meanwhile, all we get are. the dolls and makeup kits and it's not fair. So I thought, well,. I'm an engineer now. I have a degree. I can make anything I want now. I'm going to make. an engineering toy for girls, and I'm going to give them the opportunity that I didn't have. so that they can discover a passion for engineering. much earlier than I did. So I got to work. I quit my job and I worked. out of my apartment for months, making a prototype out of thread spools and wooden dowels, pieces I could find. from the hardware store. I wanted to find a way to help girls. develop their spatial skills. I did all of this research. I met with little girls, and I found something really interesting. I'd buy construction toys and watch them play with them to see how they could be improved and time and time again the girls. would get bored with the toys. And so I would say,. \"Well, what is your favorite toy?\" And they would run upstairs and they would bring back down a book and they'd say, \"I love reading. Let's read together.\" So I came up with a really simple. \"aha\" idea: What if I put those two things together. Spatial plus verbal, a construction set plus stories. And what if those stories. were about a girl engineer character named Goldie Blocks. And as she goes on adventures, she solves problems. by buildi. ng simple machines. And so the girls read along,. and they get to build with Goldie and it would bring in a role model, and it would bring in the narrative that they so loved. I made this prototype, and I went around the Bay Area testing it on hundreds of kids; and it worked. I had little girls in tutus building belt drives. (Laughter) It was awesome. And I knew I was on to something. So I had all of these. ram shackled prototypes in my apartment; and I've been working for months. like a hermit, not showering. And a friend of mine said, \"Debbie, do you want. to take this to the next level? Do you trust me?\" I said, \"Yeah, yeah.\". \"Do you trust me?\" I'm like, \"Okay.. We're not in a movie. What are you talking about?\" He said: \"You need to apply to this tech accelerator program.\" It is the most elite program. in Silicon Valley. All the top engineers around the world vie for a position in this program. You need to apply.\" So I applied, and I got in to the big interview day. And I walked into a room. of Mark Zuckerburgs sitting there on their computers. Meanwhile, me walking in, the chick with the physical prototype. And I had a napkin over it because,. obviously, I had to protect my intellectual property. (Laughter) And so I'm walking in there and gosh, do I not fit in. And one of the guys pipes up and says, \"Oh, did you bring us cookies?\" (Laughter) Well, my confidence was pretty shot; and needless to say, I didn't get into the accelerator. They didn't understand. why on earth I would add a book. So, they didn't get it. But I didn't give up. So I brought my prototype. to the New York toy fair. It's the international biggest. toy show in the U.S. And I thought, okay, this is it.. I'm going to go. I'm going to show toy industry veterans. I'm going to talk to store owners. and see what they have to say about my engineering toy for girls. And I walked in there thinking. toy fair is going to be awesome. There's going to be. all these creative types, mad scientists, kids running around, it. 's going to be so cool. It was a bunch of old men in suits. I don't fit in. Come on. I got through engineering, and now this? So I showed people my prototype; and they all kind of. looked at me with pity. And they whispered me a well-known industry secret: construction toys for girls don't sell. And they took my by the arm, and they showed me what does sell,. the pink aisle. And they said this is the way it is and so we've come full circle. And I felt pretty dejected. after that toy fair, but I wasn't willing to give up. Just because this is the way things are, doesn't mean it's how they have to be. And so I took my prototype. I partnered with a factory, and I turned it into a real toy. The thing was the factory. minimum order was 5,000 toys and with all of this rejection, I didn't know. if people were going to want it; so I put it up on Kickstarter. I had a goal of raising $150,000 in 30 days to make this toy a reality. I hit go. I crossed my fingers, and I hit my goal in four days. (Applause) And our minimum production, it didn't end up being 5,000 units. It ended up being over 20,000. I had stores calling. from all over the world saying, \"My customers are coming in,. they want Goldie Blocks. What is this Goldie Blocks?\" I had parents calling in saying, \"Yes, my daughter is more. than just a princess.\" (Laughter) I had the press writing articles. all about it. The world was waiting for this. They wanted this. The toy industry had it wrong. Yeah, sure, some girls like princesses and tiaras, and I like that stuff too, but there's so much more to us than that. There's so much potential. And for me, I couldn't be more happy to be putting my engineering skills. into this product because it leverages not only. the math and science that I worked so hard to learn, but also leverages my creativity. And engineering is such a creative thing, and I never knew it. And it's so fun for me. to get to use my creative voice and my artistic skills. as a part of engineering. And it's so important.  that we include that perspective. And the other thing. that's so great about it is engineering is for people. We're designing things for people. So how fun for me to get to spend my time playing and learning with little girls and understanding what their needs are and designing things for them. It couldn't be more rewarding. Our toys are now hitting. the doorsteps of thousands of girls around the world. I just got an email from a mom who said, \"We love playing. Goldie Blocks. My four and a half year old,. halfway through the game looked at me and said,. \"Mommy, am I an engineer?\" And her mom said, \"Yes, sweetie,. you can be. You can be anything.\" For so long, for so many years, I felt like I didn't fit in but now I feel like I belong here. I feel like I belong,. and our little girls do too. Thank you. (Applause). \n"
     ]
    }
   ],
   "source": [
    "print(new_result)"
   ]
  },
  {
   "cell_type": "code",
   "execution_count": 51,
   "metadata": {},
   "outputs": [],
   "source": [
    "summarizer1 = LsaSummarizer() \n",
    "parser1 = PlaintextParser.from_string(\n",
    "    new_result,\n",
    "    Tokenizer(\"english\")\n",
    ")\n",
    "summary = summarizer1(parser1.document, sentences_count=5)"
   ]
  },
  {
   "cell_type": "code",
   "execution_count": 52,
   "metadata": {},
   "outputs": [
    {
     "name": "stdout",
     "output_type": "stream",
     "text": [
      "(<Sentence: this is around the age where most girls start to lose an interest in math.>, <Sentence: (Laughter) Well, my confidence was pretty shot; and needless to say, I didn't get into the accelerator.>, <Sentence: And they whispered me a well-known industry secret: construction toys for girls don't sell.>, <Sentence: Just because this is the way things are, doesn't mean it's how they have to be.>, <Sentence: the math and science that I worked so hard to learn, but also leverages my creativity.>)\n"
     ]
    }
   ],
   "source": [
    "print(summary) "
   ]
  },
  {
   "cell_type": "code",
   "execution_count": 53,
   "metadata": {},
   "outputs": [],
   "source": [
    "final_summary = \"\"\n",
    "for i in summary:\n",
    "    a = wrap(str(i))\n",
    "    for i in a:\n",
    "        final_summary += i + ' '\n",
    "        \n",
    "         \n"
   ]
  },
  {
   "cell_type": "code",
   "execution_count": 54,
   "metadata": {},
   "outputs": [
    {
     "name": "stdout",
     "output_type": "stream",
     "text": [
      "438\n"
     ]
    }
   ],
   "source": [
    "print(len(final_summary)) "
   ]
  },
  {
   "cell_type": "code",
   "execution_count": 55,
   "metadata": {},
   "outputs": [
    {
     "name": "stdout",
     "output_type": "stream",
     "text": [
      "this is around the age where most girls start to lose an interest in math. (Laughter) Well, my confidence was pretty shot; and needless to say, I didn't get into the accelerator. And they whispered me a well-known industry secret: construction toys for girls don't sell. Just because this is the way things are, doesn't mean it's how they have to be. the math and science that I worked so hard to learn, but also leverages my creativity. \n"
     ]
    }
   ],
   "source": [
    "print(final_summary)"
   ]
  },
  {
   "attachments": {},
   "cell_type": "markdown",
   "metadata": {},
   "source": [
    "<h3> Final Result </h3>"
   ]
  },
  {
   "cell_type": "code",
   "execution_count": 56,
   "metadata": {},
   "outputs": [
    {
     "name": "stdout",
     "output_type": "stream",
     "text": [
      "Input: \n",
      " Transcriber: Moe Shoji\n",
      "Reviewer: Ivana Korom I'd like you all to close your eyes. Closed? Okay. Now, you can't see me right now, but I'm actually riding a unicycle,\n",
      "juggling hundreds of balls. (Laughter) No, keep your eyes closed, though. It's really great. But okay. So close your eyes,\n",
      "and picture an engineer. Everyone got a picture in their head? Nod. Okay. Open your eyes. Raise your hand if you pictured a guy\n",
      "sitting alone at a computer. Okay. Maybe kind of nerdy,\n",
      "pocket protector. Raise your hand if you pictured\n",
      "a train driver. (Laughter) That's a lot of hands. Raise your hand if you pictured a young guy in a hoodie, maybe looks a little\n",
      "like Mark Zuckerberg perhaps. Raise your hand if you pictured someone\n",
      "who looks like me. Okay. Not a lot of hands. Well, if you didn't raise your hand for me, I would like you to please\n",
      "get up and leave. (Laughter) No, just kidding. If you didn't raise your hand for me,\n",
      "it's all right. I get it all the time. Usually when I tell people\n",
      "I'm an engineer, they look at me and they say, \"Ha! No, really, what do you do?\" or they look at me and say, \"Oh, whoa, you must be\n",
      "some kind of genius\" or my favorite is when I told my mother I wanted to major in engineering, she said, \"Eww, why?\" (Laughter) The truth is I'm a female engineer,\n",
      "and I'm a minority. Only 11 percent of engineers\n",
      "in the U.S. are women. So why does this matter?\n",
      "Why do we care? So what. Let's just have the men\n",
      "do all the engineering. Well, engineers are making\n",
      "some of the biggest advances in our society. They're solving things\n",
      "like global warming, making medical breakthroughs, some of the biggest technologies\n",
      "that are changing our lives. These are things that we use every day\n",
      "as people that make our lives better. And with half the population being female, we deserve to have the female perspective. It will only get better\n",
      "with the female perspective. But today engineering\n",
      "really is a boys' club, and I don't fit in. But I'm here today to share my story about how I discovered a passion\n",
      "for engineering, and I'm here to make a bold claim: I don't fit in, but I believe that our little girls will. So this is me when I was a little girl,\n",
      "age six. I was a pretty normal kid. I loved ballet and drawing and riding bikes. I grew up in a small town\n",
      "in Rhode Island, age six. Coincidentally,\n",
      "this is around the age where most girls start to lose an interest in math\n",
      "and science, this young. And it's interesting,\n",
      "some people think, \"Well, biologically maybe girls just\n",
      "aren't as good as those subjects and that's just the way it is,\n",
      "you can't fight nature.\" Well, there was a study\n",
      "done very recently across 65 countries\n",
      "around the world where they tested boys and girls\n",
      "on the same science test. Around the world the girls\n",
      "out-performed the boys, but not in the U.S. What the study suggests\n",
      "is that it's not a biological thing. This is a cultural thing. And this is our culture. This is what we grew up in as girls. The toy aisle, the perfect example\n",
      "of our culture, where we are taught from a very young age that we want to become princesses. I remember when I was a little girl,\n",
      "adults would pat me on the head -- well, actually I come\n",
      "from a Jewish family; so they would grab me by the punim\n",
      "and say, \"Debbie, you are so smart, good for you.\" And I remember as a little girl\n",
      "being so disappointed, wishing that they told me I was pretty. I wanted to be pretty,\n",
      "I didn't want to be smart. And by the time my senior year\n",
      "of high school rolled around, I was applying to college, and I asked my math teacher to write my recommendation letter. She said, \"Okay, Debbie,\n",
      "what do you plan to major in? I will write it in the letter.\" And I said, \"I don't know.\" She said, \"How about engineering? I think you would really excel in it.\" And I thought, engineering. I closed my eyes -- and I pictured a train driver. (Laughter) I had no idea what engineering was, and I was way too embarrassed to ask her. I didn't want to sound stupid. But I thought, \"Ugh, no way,\n",
      "eww, engineering. That's for boys.\n",
      "It's intimidating and boring. And why would she ever think\n",
      "that a creative, artistic girl like me would ever like engineering. No way.\" But I went off to Stanford,\n",
      "which was a big deal. In my high school they actually\n",
      "announced it over the loud speaker. (Laughter) And when I got to Stanford\n",
      "my freshman year, I had no idea what to major in. And that message\n",
      "that that math teacher had said, \"Engineering, you should give it a try,\" it stuck in my head. And so I thought, what the heck, I'm going to take ME101,\n",
      "just give it a try because I couldn't shake that advice\n",
      "that she had given me. And I was so worried\n",
      "that it was going to be my first F. I was terrified, but I went into the class and in that class I finally learned what engineering really was. And to my surprise, we weren't fixing train engines. In that class we got to invent and design things. We had assignments like\n",
      "make a catapult out of a soda bottle and a piece of string and five paper clips\n",
      "and a piece of foam core. It was so cool and so much fun. And in that class,\n",
      "I learned that engineering is really the skill set to build\n",
      "anything you dream up in your head, whether it's a website or a mobile app, to a bridge, to a highway, anything. That's what engineers build. And what an amazing skill set. How empowering to be able\n",
      "to build whatever you want. But the problem was I felt kind of alone. I was always one of a handful of girls in my classes, and I did not fit in. In fact, only 20 percent of undergraduate degrees in engineering and tech and science\n",
      "are awarded to women so it's a real problem. But I stuck with it. I loved the major, and I wanted to do it. That is, until I took\n",
      "an engineering drawing class. This was about halfway through my major and I thought engineering and drawing, this is going to be great. I love art. Finally, I'm going to get to draw. The problem was\n",
      "in this class you had to draw in perspective, draw in 3-D and for some reason I had this\n",
      "total mental block. I was really struggling\n",
      "with the material. And our final assignment\n",
      "we had to put our drawings up on the wall for critique. And you could tell, all the guys\n",
      "in the class -- there were about 80 of them\n",
      "and five of us girls -- the guys had scribbled their drawing\n",
      "ten minutes before and slapped it up on the wall. Meanwhile, I had spent hours\n",
      "the entire weekend. I didn't even go to any parties,\n",
      "working on my drawing. And when the professors\n",
      "went around the room and they got to my drawing,\n",
      "they took a look at it and they looked out into the room. And they said,\n",
      "\"Raise your hand if you think\n",
      "Debbie should pass this class.\" And I just stood there beet red,\n",
      "humiliated, looking around. Some people are kind of\n",
      "half raising their hands. I was horrified. And they're like,\n",
      "\"Come on, raise your hand if you think\n",
      "Debbie should pass the class.\" The room was silent. Finally, my good friend piped up and said, \"How dare you? How dare you humiliate her\n",
      "in front of this room. She, obviously,\n",
      "has put a lot of effort in; and it's your responsibility to teach her,\n",
      "not to make fun of her.\" Well, I'm glad he said that,\n",
      "but even still, the tears were streaming down my face. And I ran out of the classroom\n",
      "and I thought, this isn't for me. I'm not naturally good at this stuff, maybe I should just give up engineering. A lot of girls around this time in their college career\n",
      "think the same thing. But my friend came out, and he said, \"Debbie, don't give up. You can do it, and I'll help you. We just have to work hard together. You'll pick up this stuff.\n",
      "I know you will. So him and I used to go\n",
      "from that moment on to the library. And sometimes we'll be there\n",
      "until three, four in the morning studying. And in that library I saw all of those guys from my classes, the guys who I thought just knew it\n",
      "and it was so easy for them. They it were there\n",
      "at the library at three in the morning. I caught them. (Laughter) And I realized that it's not about\n",
      "being a born genius, it's about how hard you work. This stuff takes a lot of work. But I worked really hard,\n",
      "and I re-did that drawing and I earned my degree. Years later I did some research\n",
      "into this stuff, and I actually learned\n",
      "that I was at a disadvantage. Like a lot of other girls, I had underdeveloped spatial skills. The other interesting thing\n",
      "that I learned is that kids who score better on spatial skills tests grew up playing with construction toys. Well, I thought isn't this a shame. Me and my little sister growing up, our parents never bought us\n",
      "Legos or erector sets or Lincoln logs. We all thought that those were boys toys. I thought, those toys have been\n",
      "marketed to boys for over a hundred years. And they get them interested\n",
      "in math and science. Meanwhile, all we get are\n",
      "the dolls and makeup kits and it's not fair. So I thought, well,\n",
      "I'm an engineer now. I have a degree. I can make anything I want now. I'm going to make\n",
      "an engineering toy for girls, and I'm going to give them the opportunity that I didn't have\n",
      "so that they can discover a passion for engineering\n",
      "much earlier than I did. So I got to work. I quit my job and I worked\n",
      "out of my apartment for months, making a prototype out of thread spools and wooden dowels, pieces I could find\n",
      "from the hardware store. I wanted to find a way to help girls\n",
      "develop their spatial skills. I did all of this research. I met with little girls, and I found something really interesting. I'd buy construction toys and watch them play with them to see how they could be improved and time and time again the girls\n",
      "would get bored with the toys. And so I would say,\n",
      "\"Well, what is your favorite toy?\" And they would run upstairs and they would bring back down a book and they'd say, \"I love reading. Let's read together.\" So I came up with a really simple\n",
      "\"aha\" idea: What if I put those two things together. Spatial plus verbal, a construction set plus stories. And what if those stories\n",
      "were about a girl engineer character named Goldie Blocks. And as she goes on adventures, she solves problems\n",
      "by building simple machines. And so the girls read along,\n",
      "and they get to build with Goldie and it would bring in a role model, and it would bring in the narrative that they so loved. I made this prototype, and I went around the Bay Area testing it on hundreds of kids; and it worked. I had little girls in tutus building belt drives. (Laughter) It was awesome. And I knew I was on to something. So I had all of these\n",
      "ram shackled prototypes in my apartment; and I've been working for months\n",
      "like a hermit, not showering. And a friend of mine said, \"Debbie, do you want\n",
      "to take this to the next level? Do you trust me?\" I said, \"Yeah, yeah.\"\n",
      "\"Do you trust me?\" I'm like, \"Okay.\n",
      "We're not in a movie. What are you talking about?\" He said: \"You need to apply to this tech accelerator program.\" It is the most elite program\n",
      "in Silicon Valley. All the top engineers around the world vie for a position in this program. You need to apply.\" So I applied, and I got in to the big interview day. And I walked into a room\n",
      "of Mark Zuckerburgs sitting there on their computers. Meanwhile, me walking in, the chick with the physical prototype. And I had a napkin over it because,\n",
      "obviously, I had to protect my intellectual property. (Laughter) And so I'm walking in there and gosh, do I not fit in. And one of the guys pipes up and says, \"Oh, did you bring us cookies?\" (Laughter) Well, my confidence was pretty shot; and needless to say, I didn't get into the accelerator. They didn't understand\n",
      "why on earth I would add a book. So, they didn't get it. But I didn't give up. So I brought my prototype\n",
      "to the New York toy fair. It's the international biggest\n",
      "toy show in the U.S. And I thought, okay, this is it.\n",
      "I'm going to go. I'm going to show toy industry veterans. I'm going to talk to store owners\n",
      "and see what they have to say about my engineering toy for girls. And I walked in there thinking\n",
      "toy fair is going to be awesome. There's going to be\n",
      "all these creative types, mad scientists, kids running around, it's going to be so cool. It was a bunch of old men in suits. I don't fit in. Come on. I got through engineering, and now this? So I showed people my prototype; and they all kind of\n",
      "looked at me with pity. And they whispered me a well-known industry secret: construction toys for girls don't sell. And they took my by the arm, and they showed me what does sell,\n",
      "the pink aisle. And they said this is the way it is and so we've come full circle. And I felt pretty dejected\n",
      "after that toy fair, but I wasn't willing to give up. Just because this is the way things are, doesn't mean it's how they have to be. And so I took my prototype. I partnered with a factory, and I turned it into a real toy. The thing was the factory\n",
      "minimum order was 5,000 toys and with all of this rejection, I didn't know\n",
      "if people were going to want it; so I put it up on Kickstarter. I had a goal of raising $150,000 in 30 days to make this toy a reality. I hit go. I crossed my fingers, and I hit my goal in four days. (Applause) And our minimum production, it didn't end up being 5,000 units. It ended up being over 20,000. I had stores calling\n",
      "from all over the world saying, \"My customers are coming in,\n",
      "they want Goldie Blocks. What is this Goldie Blocks?\" I had parents calling in saying, \"Yes, my daughter is more\n",
      "than just a princess.\" (Laughter) I had the press writing articles\n",
      "all about it. The world was waiting for this. They wanted this. The toy industry had it wrong. Yeah, sure, some girls like princesses and tiaras, and I like that stuff too, but there's so much more to us than that. There's so much potential. And for me, I couldn't be more happy to be putting my engineering skills\n",
      "into this product because it leverages not only\n",
      "the math and science that I worked so hard to learn, but also leverages my creativity. And engineering is such a creative thing, and I never knew it. And it's so fun for me\n",
      "to get to use my creative voice and my artistic skills\n",
      "as a part of engineering. And it's so important that we include that perspective. And the other thing\n",
      "that's so great about it is engineering is for people. We're designing things for people. So how fun for me to get to spend my time playing and learning with little girls and understanding what their needs are and designing things for them. It couldn't be more rewarding. Our toys are now hitting\n",
      "the doorsteps of thousands of girls around the world. I just got an email from a mom who said, \"We love playing\n",
      "Goldie Blocks. My four and a half year old,\n",
      "halfway through the game looked at me and said,\n",
      "\"Mommy, am I an engineer?\" And her mom said, \"Yes, sweetie,\n",
      "you can be. You can be anything.\" For so long, for so many years, I felt like I didn't fit in but now I feel like I belong here. I feel like I belong,\n",
      "and our little girls do too. Thank you. (Applause)\n",
      "\n",
      "\n",
      "\n",
      "\n",
      "\n",
      "\n",
      "\n",
      "\n",
      "\n",
      "\n",
      "=============================================================================================================\n",
      "\n",
      "\n",
      "\n",
      "\n",
      "\n",
      " \n",
      "Output Summary: \n",
      "this is around the age where most girls start to lose an interest in math. (Laughter) Well, my confidence was pretty shot; and needless to say, I didn't get into the accelerator. And they whispered me a well-known industry secret: construction toys for girls don't sell. Just because this is the way things are, doesn't mean it's how they have to be. the math and science that I worked so hard to learn, but also leverages my creativity. \n",
      "\n",
      "\n"
     ]
    }
   ],
   "source": [
    "print(\"Input: \")\n",
    "print(result)\n",
    "print() \n",
    "print() \n",
    "print() \n",
    "print() \n",
    "print() \n",
    "print() \n",
    "print() \n",
    "print() \n",
    "print() \n",
    "print() \n",
    "\n",
    "print(\"=============================================================================================================\")\n",
    "print() \n",
    "print() \n",
    "print() \n",
    "print() \n",
    "print() \n",
    "print(\" \")\n",
    "print(\"Output Summary: \")\n",
    "print(final_summary)\n",
    "print() \n",
    "print() "
   ]
  }
 ],
 "metadata": {
  "kernelspec": {
   "display_name": "pytorch",
   "language": "python",
   "name": "python3"
  },
  "language_info": {
   "codemirror_mode": {
    "name": "ipython",
    "version": 3
   },
   "file_extension": ".py",
   "mimetype": "text/x-python",
   "name": "python",
   "nbconvert_exporter": "python",
   "pygments_lexer": "ipython3",
   "version": "3.9.13"
  },
  "orig_nbformat": 4,
  "vscode": {
   "interpreter": {
    "hash": "0747f93ff6db21b2db2bf35ad4858dd0825b9c21797c41b4cc32097944ab3f10"
   }
  }
 },
 "nbformat": 4,
 "nbformat_minor": 2
}
